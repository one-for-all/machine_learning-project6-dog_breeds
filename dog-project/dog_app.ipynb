{
 "cells": [
  {
   "cell_type": "markdown",
   "metadata": {},
   "source": [
    "# Artificial Intelligence Nanodegree\n",
    "\n",
    "## Convolutional Neural Networks\n",
    "\n",
    "## Project: Write an Algorithm for a Dog Identification App \n",
    "\n",
    "---\n",
    "\n",
    "In this notebook, some template code has already been provided for you, and you will need to implement additional functionality to successfully complete this project. You will not need to modify the included code beyond what is requested. Sections that begin with **'(IMPLEMENTATION)'** in the header indicate that the following block of code will require additional functionality which you must provide. Instructions will be provided for each section, and the specifics of the implementation are marked in the code block with a 'TODO' statement. Please be sure to read the instructions carefully! \n",
    "\n",
    "> **Note**: Once you have completed all of the code implementations, you need to finalize your work by exporting the iPython Notebook as an HTML document. Before exporting the notebook to html, all of the code cells need to have been run so that reviewers can see the final implementation and output. You can then export the notebook by using the menu above and navigating to  \\n\",\n",
    "    \"**File -> Download as -> HTML (.html)**. Include the finished document along with this notebook as your submission.\n",
    "\n",
    "In addition to implementing code, there will be questions that you must answer which relate to the project and your implementation. Each section where you will answer a question is preceded by a **'Question X'** header. Carefully read each question and provide thorough answers in the following text boxes that begin with **'Answer:'**. Your project submission will be evaluated based on your answers to each of the questions and the implementation you provide.\n",
    "\n",
    ">**Note:** Code and Markdown cells can be executed using the **Shift + Enter** keyboard shortcut.  Markdown cells can be edited by double-clicking the cell to enter edit mode.\n",
    "\n",
    "The rubric contains _optional_ \"Stand Out Suggestions\" for enhancing the project beyond the minimum requirements. If you decide to pursue the \"Stand Out Suggestions\", you should include the code in this IPython notebook.\n",
    "\n",
    "\n",
    "\n",
    "---\n",
    "### Why We're Here \n",
    "\n",
    "In this notebook, you will make the first steps towards developing an algorithm that could be used as part of a mobile or web app.  At the end of this project, your code will accept any user-supplied image as input.  If a dog is detected in the image, it will provide an estimate of the dog's breed.  If a human is detected, it will provide an estimate of the dog breed that is most resembling.  The image below displays potential sample output of your finished project (... but we expect that each student's algorithm will behave differently!). \n",
    "\n",
    "![Sample Dog Output](images/sample_dog_output.png)\n",
    "\n",
    "In this real-world setting, you will need to piece together a series of models to perform different tasks; for instance, the algorithm that detects humans in an image will be different from the CNN that infers dog breed.  There are many points of possible failure, and no perfect algorithm exists.  Your imperfect solution will nonetheless create a fun user experience!\n",
    "\n",
    "### The Road Ahead\n",
    "\n",
    "We break the notebook into separate steps.  Feel free to use the links below to navigate the notebook.\n",
    "\n",
    "* [Step 0](#step0): Import Datasets\n",
    "* [Step 1](#step1): Detect Humans\n",
    "* [Step 2](#step2): Detect Dogs\n",
    "* [Step 3](#step3): Create a CNN to Classify Dog Breeds (from Scratch)\n",
    "* [Step 4](#step4): Use a CNN to Classify Dog Breeds (using Transfer Learning)\n",
    "* [Step 5](#step5): Create a CNN to Classify Dog Breeds (using Transfer Learning)\n",
    "* [Step 6](#step6): Write your Algorithm\n",
    "* [Step 7](#step7): Test Your Algorithm\n",
    "\n",
    "---\n",
    "<a id='step0'></a>\n",
    "## Step 0: Import Datasets\n",
    "\n",
    "### Import Dog Dataset\n",
    "\n",
    "In the code cell below, we import a dataset of dog images.  We populate a few variables through the use of the `load_files` function from the scikit-learn library:\n",
    "- `train_files`, `valid_files`, `test_files` - numpy arrays containing file paths to images\n",
    "- `train_targets`, `valid_targets`, `test_targets` - numpy arrays containing onehot-encoded classification labels \n",
    "- `dog_names` - list of string-valued dog breed names for translating labels"
   ]
  },
  {
   "cell_type": "code",
   "execution_count": 1,
   "metadata": {},
   "outputs": [
    {
     "name": "stderr",
     "output_type": "stream",
     "text": [
      "Using TensorFlow backend.\n"
     ]
    },
    {
     "name": "stdout",
     "output_type": "stream",
     "text": [
      "There are 133 total dog categories.\n",
      "There are 8351 total dog images.\n",
      "\n",
      "There are 6680 training dog images.\n",
      "There are 835 validation dog images.\n",
      "There are 836 test dog images.\n"
     ]
    }
   ],
   "source": [
    "from sklearn.datasets import load_files       \n",
    "from keras.utils import np_utils\n",
    "import numpy as np\n",
    "from glob import glob\n",
    "\n",
    "# define function to load train, test, and validation datasets\n",
    "def load_dataset(path):\n",
    "    data = load_files(path)\n",
    "    dog_files = np.array(data['filenames'])\n",
    "    dog_targets = np_utils.to_categorical(np.array(data['target']), 133)\n",
    "    return dog_files, dog_targets\n",
    "\n",
    "# load train, test, and validation datasets\n",
    "train_files, train_targets = load_dataset('dogImages/train')\n",
    "valid_files, valid_targets = load_dataset('dogImages/valid')\n",
    "test_files, test_targets = load_dataset('dogImages/test')\n",
    "\n",
    "# load list of dog names\n",
    "dog_names = [item[20:-1] for item in sorted(glob(\"dogImages/train/*/\"))]\n",
    "\n",
    "# print statistics about the dataset\n",
    "print('There are %d total dog categories.' % len(dog_names))\n",
    "print('There are %s total dog images.\\n' % len(np.hstack([train_files, valid_files, test_files])))\n",
    "print('There are %d training dog images.' % len(train_files))\n",
    "print('There are %d validation dog images.' % len(valid_files))\n",
    "print('There are %d test dog images.'% len(test_files))"
   ]
  },
  {
   "cell_type": "markdown",
   "metadata": {},
   "source": [
    "### Import Human Dataset\n",
    "\n",
    "In the code cell below, we import a dataset of human images, where the file paths are stored in the numpy array `human_files`."
   ]
  },
  {
   "cell_type": "code",
   "execution_count": 2,
   "metadata": {},
   "outputs": [
    {
     "name": "stdout",
     "output_type": "stream",
     "text": [
      "There are 13233 total human images.\n"
     ]
    }
   ],
   "source": [
    "import random\n",
    "random.seed(8675309)\n",
    "\n",
    "# load filenames in shuffled human dataset\n",
    "human_files = np.array(glob(\"lfw/*/*\"))\n",
    "random.shuffle(human_files)\n",
    "\n",
    "# print statistics about the dataset\n",
    "print('There are %d total human images.' % len(human_files))"
   ]
  },
  {
   "cell_type": "markdown",
   "metadata": {},
   "source": [
    "---\n",
    "<a id='step1'></a>\n",
    "## Step 1: Detect Humans\n",
    "\n",
    "We use OpenCV's implementation of [Haar feature-based cascade classifiers](http://docs.opencv.org/trunk/d7/d8b/tutorial_py_face_detection.html) to detect human faces in images.  OpenCV provides many pre-trained face detectors, stored as XML files on [github](https://github.com/opencv/opencv/tree/master/data/haarcascades).  We have downloaded one of these detectors and stored it in the `haarcascades` directory.\n",
    "\n",
    "In the next code cell, we demonstrate how to use this detector to find human faces in a sample image."
   ]
  },
  {
   "cell_type": "code",
   "execution_count": 3,
   "metadata": {},
   "outputs": [
    {
     "name": "stdout",
     "output_type": "stream",
     "text": [
      "('Number of faces detected:', 1)\n"
     ]
    },
    {
     "data": {
      "image/png": "[encoded data removed]",
      "text/plain": [
       "<matplotlib.figure.Figure at 0x11445d950>"
      ]
     },
     "metadata": {},
     "output_type": "display_data"
    }
   ],
   "source": [
    "import cv2                \n",
    "import matplotlib.pyplot as plt                        \n",
    "%matplotlib inline                               \n",
    "\n",
    "# extract pre-trained face detector\n",
    "face_cascade = cv2.CascadeClassifier('haarcascades/haarcascade_frontalface_alt.xml')\n",
    "\n",
    "# load color (BGR) image\n",
    "img = cv2.imread(human_files[3])\n",
    "# convert BGR image to grayscale\n",
    "gray = cv2.cvtColor(img, cv2.COLOR_BGR2GRAY)\n",
    "\n",
    "# find faces in image\n",
    "faces = face_cascade.detectMultiScale(gray)\n",
    "\n",
    "# print number of faces detected in the image\n",
    "print('Number of faces detected:', len(faces))\n",
    "\n",
    "# get bounding box for each detected face\n",
    "for (x,y,w,h) in faces:\n",
    "    # add bounding box to color image\n",
    "    cv2.rectangle(img,(x,y),(x+w,y+h),(255,0,0),2)\n",
    "    \n",
    "# convert BGR image to RGB for plotting\n",
    "cv_rgb = cv2.cvtColor(img, cv2.COLOR_BGR2RGB)\n",
    "\n",
    "# display the image, along with bounding box\n",
    "plt.imshow(cv_rgb)\n",
    "plt.show()"
   ]
  },
  {
   "cell_type": "markdown",
   "metadata": {},
   "source": [
    "Before using any of the face detectors, it is standard procedure to convert the images to grayscale.  The `detectMultiScale` function executes the classifier stored in `face_cascade` and takes the grayscale image as a parameter.  \n",
    "\n",
    "In the above code, `faces` is a numpy array of detected faces, where each row corresponds to a detected face.  Each detected face is a 1D array with four entries that specifies the bounding box of the detected face.  The first two entries in the array (extracted in the above code as `x` and `y`) specify the horizontal and vertical positions of the top left corner of the bounding box.  The last two entries in the array (extracted here as `w` and `h`) specify the width and height of the box.\n",
    "\n",
    "### Write a Human Face Detector\n",
    "\n",
    "We can use this procedure to write a function that returns `True` if a human face is detected in an image and `False` otherwise.  This function, aptly named `face_detector`, takes a string-valued file path to an image as input and appears in the code block below."
   ]
  },
  {
   "cell_type": "code",
   "execution_count": 4,
   "metadata": {
    "collapsed": true
   },
   "outputs": [],
   "source": [
    "# returns \"True\" if face is detected in image stored at img_path\n",
    "def face_detector(img_path):\n",
    "    img = cv2.imread(img_path)\n",
    "    gray = cv2.cvtColor(img, cv2.COLOR_BGR2GRAY)\n",
    "    faces = face_cascade.detectMultiScale(gray)\n",
    "    return len(faces) > 0"
   ]
  },
  {
   "cell_type": "markdown",
   "metadata": {},
   "source": [
    "### (IMPLEMENTATION) Assess the Human Face Detector\n",
    "\n",
    "__Question 1:__ Use the code cell below to test the performance of the `face_detector` function.  \n",
    "- What percentage of the first 100 images in `human_files` have a detected human face?  \n",
    "- What percentage of the first 100 images in `dog_files` have a detected human face? \n",
    "\n",
    "Ideally, we would like 100% of human images with a detected face and 0% of dog images with a detected face.  You will see that our algorithm falls short of this goal, but still gives acceptable performance.  We extract the file paths for the first 100 images from each of the datasets and store them in the numpy arrays `human_files_short` and `dog_files_short`.\n",
    "\n",
    "__Answer:__ "
   ]
  },
  {
   "cell_type": "code",
   "execution_count": 5,
   "metadata": {},
   "outputs": [
    {
     "name": "stdout",
     "output_type": "stream",
     "text": [
      "98% of human images have been detected human faces.\n",
      "11% of dog images have been detected human faces.\n"
     ]
    }
   ],
   "source": [
    "human_files_short = human_files[:100]\n",
    "dog_files_short = train_files[:100]\n",
    "# Do NOT modify the code above this line.\n",
    "\n",
    "## TODO: Test the performance of the face_detector algorithm \n",
    "## on the images in human_files_short and dog_files_short.\n",
    "total_faces_human = sum([face_detector(human_file) for human_file in human_files_short])\n",
    "total_faces_dog = sum([face_detector(dog_file) for dog_file in dog_files_short])\n",
    "print \"{}% of human images have been detected human faces.\".format(total_faces_human)\n",
    "print \"{}% of dog images have been detected human faces.\".format(total_faces_dog)"
   ]
  },
  {
   "cell_type": "markdown",
   "metadata": {},
   "source": [
    "__Question 2:__ This algorithmic choice necessitates that we communicate to the user that we accept human images only when they provide a clear view of a face (otherwise, we risk having unneccessarily frustrated users!). In your opinion, is this a reasonable expectation to pose on the user? If not, can you think of a way to detect humans in images that does not necessitate an image with a clearly presented face?"
   ]
  },
  {
   "cell_type": "markdown",
   "metadata": {},
   "source": [
    "__Answer:__  \n",
    "* This is a reasonable expectation on the user.\n",
    "* Because one usage of the app is to find the dog breed that resembles a person the most, users would understand that for this to work, they probably need to provide at least a clear image of a face since face is the physical feature that comes to mind the most when we think of the idea of 'resembling a dog breed'.\n",
    "* The accuracy of detecting human face in human image is acceptable, while the error in detecting human face in dog images is not so good, but it might be okay as we will not frustrate dogs."
   ]
  },
  {
   "cell_type": "markdown",
   "metadata": {},
   "source": [
    "We suggest the face detector from OpenCV as a potential way to detect human images in your algorithm, but you are free to explore other approaches, especially approaches that make use of deep learning :).  Please use the code cell below to design and test your own face detection algorithm.  If you decide to pursue this _optional_ task, report performance on each of the datasets."
   ]
  },
  {
   "cell_type": "code",
   "execution_count": 6,
   "metadata": {
    "collapsed": true
   },
   "outputs": [],
   "source": [
    "## (Optional) TODO: Report the performance of another  \n",
    "## face detection algorithm on the LFW dataset\n",
    "### Feel free to use as many code cells as needed."
   ]
  },
  {
   "cell_type": "markdown",
   "metadata": {},
   "source": [
    "---\n",
    "<a id='step2'></a>\n",
    "## Step 2: Detect Dogs\n",
    "\n",
    "In this section, we use a pre-trained [ResNet-50](http://ethereon.github.io/netscope/#/gist/db945b393d40bfa26006) model to detect dogs in images.  Our first line of code downloads the ResNet-50 model, along with weights that have been trained on [ImageNet](http://www.image-net.org/), a very large, very popular dataset used for image classification and other vision tasks.  ImageNet contains over 10 million URLs, each linking to an image containing an object from one of [1000 categories](https://gist.github.com/yrevar/942d3a0ac09ec9e5eb3a).  Given an image, this pre-trained ResNet-50 model returns a prediction (derived from the available categories in ImageNet) for the object that is contained in the image."
   ]
  },
  {
   "cell_type": "code",
   "execution_count": 7,
   "metadata": {
    "collapsed": true
   },
   "outputs": [],
   "source": [
    "from keras.applications.resnet50 import ResNet50\n",
    "\n",
    "# define ResNet50 model\n",
    "ResNet50_model = ResNet50(weights='imagenet')"
   ]
  },
  {
   "cell_type": "markdown",
   "metadata": {},
   "source": [
    "### Pre-process the Data\n",
    "\n",
    "When using TensorFlow as backend, Keras CNNs require a 4D array (which we'll also refer to as a 4D tensor) as input, with shape\n",
    "\n",
    "$$\n",
    "(\\text{nb_samples}, \\text{rows}, \\text{columns}, \\text{channels}),\n",
    "$$\n",
    "\n",
    "where `nb_samples` corresponds to the total number of images (or samples), and `rows`, `columns`, and `channels` correspond to the number of rows, columns, and channels for each image, respectively.  \n",
    "\n",
    "The `path_to_tensor` function below takes a string-valued file path to a color image as input and returns a 4D tensor suitable for supplying to a Keras CNN.  The function first loads the image and resizes it to a square image that is $224 \\times 224$ pixels.  Next, the image is converted to an array, which is then resized to a 4D tensor.  In this case, since we are working with color images, each image has three channels.  Likewise, since we are processing a single image (or sample), the returned tensor will always have shape\n",
    "\n",
    "$$\n",
    "(1, 224, 224, 3).\n",
    "$$\n",
    "\n",
    "The `paths_to_tensor` function takes a numpy array of string-valued image paths as input and returns a 4D tensor with shape \n",
    "\n",
    "$$\n",
    "(\\text{nb_samples}, 224, 224, 3).\n",
    "$$\n",
    "\n",
    "Here, `nb_samples` is the number of samples, or number of images, in the supplied array of image paths.  It is best to think of `nb_samples` as the number of 3D tensors (where each 3D tensor corresponds to a different image) in your dataset!"
   ]
  },
  {
   "cell_type": "code",
   "execution_count": 8,
   "metadata": {
    "collapsed": true
   },
   "outputs": [],
   "source": [
    "from keras.preprocessing import image                  \n",
    "from tqdm import tqdm\n",
    "\n",
    "def path_to_tensor(img_path):\n",
    "    # loads RGB image as PIL.Image.Image type\n",
    "    img = image.load_img(img_path, target_size=(224, 224))\n",
    "    # convert PIL.Image.Image type to 3D tensor with shape (224, 224, 3)\n",
    "    x = image.img_to_array(img)\n",
    "    # convert 3D tensor to 4D tensor with shape (1, 224, 224, 3) and return 4D tensor\n",
    "    return np.expand_dims(x, axis=0)\n",
    "\n",
    "def paths_to_tensor(img_paths):\n",
    "    list_of_tensors = [path_to_tensor(img_path) for img_path in tqdm(img_paths)]\n",
    "    return np.vstack(list_of_tensors)"
   ]
  },
  {
   "cell_type": "markdown",
   "metadata": {},
   "source": [
    "### Making Predictions with ResNet-50\n",
    "\n",
    "Getting the 4D tensor ready for ResNet-50, and for any other pre-trained model in Keras, requires some additional processing.  First, the RGB image is converted to BGR by reordering the channels.  All pre-trained models have the additional normalization step that the mean pixel (expressed in RGB as $[103.939, 116.779, 123.68]$ and calculated from all pixels in all images in ImageNet) must be subtracted from every pixel in each image.  This is implemented in the imported function `preprocess_input`.  If you're curious, you can check the code for `preprocess_input` [here](https://github.com/fchollet/keras/blob/master/keras/applications/imagenet_utils.py).\n",
    "\n",
    "Now that we have a way to format our image for supplying to ResNet-50, we are now ready to use the model to extract the predictions.  This is accomplished with the `predict` method, which returns an array whose $i$-th entry is the model's predicted probability that the image belongs to the $i$-th ImageNet category.  This is implemented in the `ResNet50_predict_labels` function below.\n",
    "\n",
    "By taking the argmax of the predicted probability vector, we obtain an integer corresponding to the model's predicted object class, which we can identify with an object category through the use of this [dictionary](https://gist.github.com/yrevar/942d3a0ac09ec9e5eb3a). "
   ]
  },
  {
   "cell_type": "code",
   "execution_count": 9,
   "metadata": {
    "collapsed": true
   },
   "outputs": [],
   "source": [
    "from keras.applications.resnet50 import preprocess_input, decode_predictions\n",
    "\n",
    "def ResNet50_predict_labels(img_path):\n",
    "    # returns prediction vector for image located at img_path\n",
    "    img = preprocess_input(path_to_tensor(img_path))\n",
    "    return np.argmax(ResNet50_model.predict(img))"
   ]
  },
  {
   "cell_type": "markdown",
   "metadata": {},
   "source": [
    "### Write a Dog Detector\n",
    "\n",
    "While looking at the [dictionary](https://gist.github.com/yrevar/942d3a0ac09ec9e5eb3a), you will notice that the categories corresponding to dogs appear in an uninterrupted sequence and correspond to dictionary keys 151-268, inclusive, to include all categories from `'Chihuahua'` to `'Mexican hairless'`.  Thus, in order to check to see if an image is predicted to contain a dog by the pre-trained ResNet-50 model, we need only check if the `ResNet50_predict_labels` function above returns a value between 151 and 268 (inclusive).\n",
    "\n",
    "We use these ideas to complete the `dog_detector` function below, which returns `True` if a dog is detected in an image (and `False` if not)."
   ]
  },
  {
   "cell_type": "code",
   "execution_count": 10,
   "metadata": {
    "collapsed": true
   },
   "outputs": [],
   "source": [
    "### returns \"True\" if a dog is detected in the image stored at img_path\n",
    "def dog_detector(img_path):\n",
    "    prediction = ResNet50_predict_labels(img_path)\n",
    "    return ((prediction <= 268) & (prediction >= 151)) "
   ]
  },
  {
   "cell_type": "markdown",
   "metadata": {},
   "source": [
    "### (IMPLEMENTATION) Assess the Dog Detector\n",
    "\n",
    "__Question 3:__ Use the code cell below to test the performance of your `dog_detector` function.  \n",
    "- What percentage of the images in `human_files_short` have a detected dog?  \n",
    "- What percentage of the images in `dog_files_short` have a detected dog?\n",
    "\n",
    "__Answer:__ "
   ]
  },
  {
   "cell_type": "code",
   "execution_count": 11,
   "metadata": {},
   "outputs": [
    {
     "name": "stdout",
     "output_type": "stream",
     "text": [
      "1.0% of images in human_files_short have a detected dog.\n",
      "100.0% of images in dog_files_short have a detected dog.\n"
     ]
    }
   ],
   "source": [
    "### TODO: Test the performance of the dog_detector function\n",
    "### on the images in human_files_short and dog_files_short.\n",
    "total_dog_human = sum([dog_detector(human_file) for human_file in human_files_short])\n",
    "total_dog_dog = sum([dog_detector(dog_file) for dog_file in dog_files_short])\n",
    "\n",
    "print \"{}% of images in human_files_short have a detected dog.\".format(100*total_dog_human/float(len(human_files_short)))\n",
    "print \"{}% of images in dog_files_short have a detected dog.\".format(100*total_dog_dog/float(len(dog_files_short)))"
   ]
  },
  {
   "cell_type": "markdown",
   "metadata": {},
   "source": [
    "---\n",
    "<a id='step3'></a>\n",
    "## Step 3: Create a CNN to Classify Dog Breeds (from Scratch)\n",
    "\n",
    "Now that we have functions for detecting humans and dogs in images, we need a way to predict breed from images.  In this step, you will create a CNN that classifies dog breeds.  You must create your CNN _from scratch_ (so, you can't use transfer learning _yet_!), and you must attain a test accuracy of at least 1%.  In Step 5 of this notebook, you will have the opportunity to use transfer learning to create a CNN that attains greatly improved accuracy.\n",
    "\n",
    "Be careful with adding too many trainable layers!  More parameters means longer training, which means you are more likely to need a GPU to accelerate the training process.  Thankfully, Keras provides a handy estimate of the time that each epoch is likely to take; you can extrapolate this estimate to figure out how long it will take for your algorithm to train. \n",
    "\n",
    "We mention that the task of assigning breed to dogs from images is considered exceptionally challenging.  To see why, consider that *even a human* would have great difficulty in distinguishing between a Brittany and a Welsh Springer Spaniel.  \n",
    "\n",
    "Brittany | Welsh Springer Spaniel\n",
    "- | - \n",
    "<img src=\"images/Brittany_02625.jpg\" width=\"100\"> | <img src=\"images/Welsh_springer_spaniel_08203.jpg\" width=\"200\">\n",
    "\n",
    "It is not difficult to find other dog breed pairs with minimal inter-class variation (for instance, Curly-Coated Retrievers and American Water Spaniels).  \n",
    "\n",
    "Curly-Coated Retriever | American Water Spaniel\n",
    "- | -\n",
    "<img src=\"images/Curly-coated_retriever_03896.jpg\" width=\"200\"> | <img src=\"images/American_water_spaniel_00648.jpg\" width=\"200\">\n",
    "\n",
    "\n",
    "Likewise, recall that labradors come in yellow, chocolate, and black.  Your vision-based algorithm will have to conquer this high intra-class variation to determine how to classify all of these different shades as the same breed.  \n",
    "\n",
    "Yellow Labrador | Chocolate Labrador | Black Labrador\n",
    "- | -\n",
    "<img src=\"images/Labrador_retriever_06457.jpg\" width=\"150\"> | <img src=\"images/Labrador_retriever_06455.jpg\" width=\"240\"> | <img src=\"images/Labrador_retriever_06449.jpg\" width=\"220\">\n",
    "\n",
    "We also mention that random chance presents an exceptionally low bar: setting aside the fact that the classes are slightly imabalanced, a random guess will provide a correct answer roughly 1 in 133 times, which corresponds to an accuracy of less than 1%.  \n",
    "\n",
    "Remember that the practice is far ahead of the theory in deep learning.  Experiment with many different architectures, and trust your intuition.  And, of course, have fun! \n",
    "\n",
    "### Pre-process the Data\n",
    "\n",
    "We rescale the images by dividing every pixel in every image by 255."
   ]
  },
  {
   "cell_type": "code",
   "execution_count": 12,
   "metadata": {},
   "outputs": [
    {
     "name": "stderr",
     "output_type": "stream",
     "text": [
      "100%|██████████| 6680/6680 [03:20<00:00, 15.42it/s]\n",
      "100%|██████████| 835/835 [00:24<00:00, 42.81it/s]\n",
      "100%|██████████| 836/836 [00:22<00:00, 36.88it/s]\n"
     ]
    }
   ],
   "source": [
    "from PIL import ImageFile                            \n",
    "ImageFile.LOAD_TRUNCATED_IMAGES = True                 \n",
    "\n",
    "# pre-process the data for Keras\n",
    "train_tensors = paths_to_tensor(train_files).astype('float32')/255\n",
    "valid_tensors = paths_to_tensor(valid_files).astype('float32')/255\n",
    "test_tensors = paths_to_tensor(test_files).astype('float32')/255"
   ]
  },
  {
   "cell_type": "markdown",
   "metadata": {},
   "source": [
    "### (IMPLEMENTATION) Model Architecture\n",
    "\n",
    "Create a CNN to classify dog breed.  At the end of your code cell block, summarize the layers of your model by executing the line:\n",
    "    \n",
    "        model.summary()\n",
    "\n",
    "We have imported some Python modules to get you started, but feel free to import as many modules as you need.  If you end up getting stuck, here's a hint that specifies a model that trains relatively fast on CPU and attains >1% test accuracy in 5 epochs:\n",
    "\n",
    "![Sample CNN](images/sample_cnn.png)\n",
    "           \n",
    "__Question 4:__ Outline the steps you took to get to your final CNN architecture and your reasoning at each step.  If you chose to use the hinted architecture above, describe why you think that CNN architecture should work well for the image classification task.\n",
    "\n",
    "__Answer:__ "
   ]
  },
  {
   "cell_type": "code",
   "execution_count": 18,
   "metadata": {},
   "outputs": [
    {
     "name": "stdout",
     "output_type": "stream",
     "text": [
      "_________________________________________________________________\n",
      "Layer (type)                 Output Shape              Param #   \n",
      "=================================================================\n",
      "conv2d_15 (Conv2D)           (None, 223, 223, 16)      208       \n",
      "_________________________________________________________________\n",
      "max_pooling2d_16 (MaxPooling (None, 112, 112, 16)      0         \n",
      "_________________________________________________________________\n",
      "conv2d_16 (Conv2D)           (None, 111, 111, 32)      2080      \n",
      "_________________________________________________________________\n",
      "max_pooling2d_17 (MaxPooling (None, 56, 56, 32)        0         \n",
      "_________________________________________________________________\n",
      "conv2d_17 (Conv2D)           (None, 55, 55, 64)        8256      \n",
      "_________________________________________________________________\n",
      "max_pooling2d_18 (MaxPooling (None, 28, 28, 64)        0         \n",
      "_________________________________________________________________\n",
      "global_average_pooling2d_5 ( (None, 64)                0         \n",
      "_________________________________________________________________\n",
      "dense_5 (Dense)              (None, 133)               8645      \n",
      "=================================================================\n",
      "Total params: 19,189\n",
      "Trainable params: 19,189\n",
      "Non-trainable params: 0\n",
      "_________________________________________________________________\n"
     ]
    }
   ],
   "source": [
    "from keras.layers import Conv2D, MaxPooling2D, GlobalAveragePooling2D\n",
    "from keras.layers import Dropout, Flatten, Dense\n",
    "from keras.models import Sequential\n",
    "\n",
    "model = Sequential()\n",
    "\n",
    "### TODO: Define your architecture.\n",
    "model.add(Conv2D(filters=16, kernel_size=2, activation='relu', input_shape=train_tensors.shape[1:]))\n",
    "model.add(MaxPooling2D(pool_size=2, padding='same'))\n",
    "model.add(Conv2D(filters=32, kernel_size=2, activation='relu'))\n",
    "model.add(MaxPooling2D(pool_size=2, padding='same'))\n",
    "model.add(Conv2D(filters=64, kernel_size=2, activation='relu'))\n",
    "model.add(MaxPooling2D(pool_size=2, padding='same'))\n",
    "model.add(GlobalAveragePooling2D())\n",
    "model.add(Dense(133, activation='softmax'))\n",
    "\n",
    "model.summary()"
   ]
  },
  {
   "cell_type": "markdown",
   "metadata": {},
   "source": [
    "**Model Explanation**  \n",
    "* I used the hinted architecture except that I set the 'padding' to 'same' for the max pooling layers.\n",
    "* The reason that the original architecture might work well is that it takes an approach that tries to get the high level distinctions step by step.\n",
    "    * It first transforms the input through 2x2 filters that try to get many low level features, followed by a dimension reduction by max pooling.\n",
    "    * Then it tries to get even more higher level features on top of the low level features, again followed by a dimension reduction by max pooling.\n",
    "    * Then the highest level features are obtained followed by max pooling and global average pooling.\n",
    "    * In each step, the depth of the output is increased to obtain more independent groups of features, while the spatial relation of each feature is abstracted away to produce higher level features. \n",
    "    * In the end, the classification is obtained from the highest level features.\n",
    "    * This procedure seems to be reasonable for image classification task.\n",
    "* The reason I set 'padding' to 'same' in max pooling layers is to prevent this layer from dropping the features at the edge of the matrices of previous layers. Since max pooling filters that are 2x2 take strides of 2 by default, if 'padding' is not 'same', the edge features of a matrix of odd size will inevitably be ignored. We would want to prevent ignoring this information which might be important."
   ]
  },
  {
   "cell_type": "markdown",
   "metadata": {},
   "source": [
    "### Compile the Model"
   ]
  },
  {
   "cell_type": "code",
   "execution_count": 19,
   "metadata": {
    "collapsed": true
   },
   "outputs": [],
   "source": [
    "model.compile(optimizer='rmsprop', loss='categorical_crossentropy', metrics=['accuracy'])"
   ]
  },
  {
   "cell_type": "markdown",
   "metadata": {},
   "source": [
    "### (IMPLEMENTATION) Train the Model\n",
    "\n",
    "Train your model in the code cell below.  Use model checkpointing to save the model that attains the best validation loss.\n",
    "\n",
    "You are welcome to [augment the training data](https://blog.keras.io/building-powerful-image-classification-models-using-very-little-data.html), but this is not a requirement. "
   ]
  },
  {
   "cell_type": "code",
   "execution_count": 20,
   "metadata": {},
   "outputs": [
    {
     "name": "stdout",
     "output_type": "stream",
     "text": [
      "Train on 6680 samples, validate on 835 samples\n",
      "Epoch 1/5\n",
      "6660/6680 [============================>.] - ETA: 1s - loss: 4.8847 - acc: 0.0095Epoch 00000: val_loss improved from inf to 4.86996, saving model to saved_models/weights.best.from_scratch.hdf5\n",
      "6680/6680 [==============================] - 368s - loss: 4.8848 - acc: 0.0094 - val_loss: 4.8700 - val_acc: 0.0132\n",
      "Epoch 2/5\n",
      "6660/6680 [============================>.] - ETA: 1s - loss: 4.8653 - acc: 0.0140Epoch 00001: val_loss improved from 4.86996 to 4.85154, saving model to saved_models/weights.best.from_scratch.hdf5\n",
      "6680/6680 [==============================] - 361s - loss: 4.8654 - acc: 0.0139 - val_loss: 4.8515 - val_acc: 0.0168\n",
      "Epoch 3/5\n",
      "6660/6680 [============================>.] - ETA: 1s - loss: 4.8338 - acc: 0.0173Epoch 00002: val_loss improved from 4.85154 to 4.82020, saving model to saved_models/weights.best.from_scratch.hdf5\n",
      "6680/6680 [==============================] - 354s - loss: 4.8334 - acc: 0.0172 - val_loss: 4.8202 - val_acc: 0.0144\n",
      "Epoch 4/5\n",
      "6660/6680 [============================>.] - ETA: 0s - loss: 4.7906 - acc: 0.0198Epoch 00003: val_loss improved from 4.82020 to 4.79171, saving model to saved_models/weights.best.from_scratch.hdf5\n",
      "6680/6680 [==============================] - 339s - loss: 4.7906 - acc: 0.0198 - val_loss: 4.7917 - val_acc: 0.0168\n",
      "Epoch 5/5\n",
      "6660/6680 [============================>.] - ETA: 0s - loss: 4.7601 - acc: 0.0203Epoch 00004: val_loss improved from 4.79171 to 4.78291, saving model to saved_models/weights.best.from_scratch.hdf5\n",
      "6680/6680 [==============================] - 335s - loss: 4.7604 - acc: 0.0204 - val_loss: 4.7829 - val_acc: 0.0144\n"
     ]
    },
    {
     "data": {
      "text/plain": [
       "<keras.callbacks.History at 0x11deecf90>"
      ]
     },
     "execution_count": 20,
     "metadata": {},
     "output_type": "execute_result"
    }
   ],
   "source": [
    "from keras.callbacks import ModelCheckpoint  \n",
    "\n",
    "### TODO: specify the number of epochs that you would like to use to train the model.\n",
    "\n",
    "epochs = 5\n",
    "\n",
    "### Do NOT modify the code below this line.\n",
    "\n",
    "checkpointer = ModelCheckpoint(filepath='saved_models/weights.best.from_scratch.hdf5', \n",
    "                               verbose=1, save_best_only=True)\n",
    "\n",
    "model.fit(train_tensors, train_targets, \n",
    "          validation_data=(valid_tensors, valid_targets),\n",
    "          epochs=epochs, batch_size=20, callbacks=[checkpointer], verbose=1)"
   ]
  },
  {
   "cell_type": "markdown",
   "metadata": {},
   "source": [
    "### Load the Model with the Best Validation Loss"
   ]
  },
  {
   "cell_type": "code",
   "execution_count": 21,
   "metadata": {
    "collapsed": true
   },
   "outputs": [],
   "source": [
    "model.load_weights('saved_models/weights.best.from_scratch.hdf5')"
   ]
  },
  {
   "cell_type": "markdown",
   "metadata": {},
   "source": [
    "### Test the Model\n",
    "\n",
    "Try out your model on the test dataset of dog images.  Ensure that your test accuracy is greater than 1%."
   ]
  },
  {
   "cell_type": "code",
   "execution_count": 22,
   "metadata": {},
   "outputs": [
    {
     "name": "stdout",
     "output_type": "stream",
     "text": [
      "Test accuracy: 2.0000%\n"
     ]
    }
   ],
   "source": [
    "# get index of predicted dog breed for each image in test set\n",
    "dog_breed_predictions = [np.argmax(model.predict(np.expand_dims(tensor, axis=0))) for tensor in test_tensors]\n",
    "\n",
    "# report test accuracy\n",
    "test_accuracy = 100*np.sum(np.array(dog_breed_predictions)==np.argmax(test_targets, axis=1))/len(dog_breed_predictions)\n",
    "print('Test accuracy: %.4f%%' % test_accuracy)"
   ]
  },
  {
   "cell_type": "markdown",
   "metadata": {},
   "source": [
    "---\n",
    "<a id='step4'></a>\n",
    "## Step 4: Use a CNN to Classify Dog Breeds\n",
    "\n",
    "To reduce training time without sacrificing accuracy, we show you how to train a CNN using transfer learning.  In the following step, you will get a chance to use transfer learning to train your own CNN.\n",
    "\n",
    "### Obtain Bottleneck Features"
   ]
  },
  {
   "cell_type": "code",
   "execution_count": 23,
   "metadata": {
    "collapsed": true
   },
   "outputs": [],
   "source": [
    "bottleneck_features = np.load('bottleneck_features/DogVGG16Data.npz')\n",
    "train_VGG16 = bottleneck_features['train']\n",
    "valid_VGG16 = bottleneck_features['valid']\n",
    "test_VGG16 = bottleneck_features['test']"
   ]
  },
  {
   "cell_type": "markdown",
   "metadata": {},
   "source": [
    "### Model Architecture\n",
    "\n",
    "The model uses the the pre-trained VGG-16 model as a fixed feature extractor, where the last convolutional output of VGG-16 is fed as input to our model.  We only add a global average pooling layer and a fully connected layer, where the latter contains one node for each dog category and is equipped with a softmax."
   ]
  },
  {
   "cell_type": "code",
   "execution_count": 24,
   "metadata": {},
   "outputs": [
    {
     "name": "stdout",
     "output_type": "stream",
     "text": [
      "_________________________________________________________________\n",
      "Layer (type)                 Output Shape              Param #   \n",
      "=================================================================\n",
      "global_average_pooling2d_6 ( (None, 512)               0         \n",
      "_________________________________________________________________\n",
      "dense_6 (Dense)              (None, 133)               68229     \n",
      "=================================================================\n",
      "Total params: 68,229\n",
      "Trainable params: 68,229\n",
      "Non-trainable params: 0\n",
      "_________________________________________________________________\n"
     ]
    }
   ],
   "source": [
    "VGG16_model = Sequential()\n",
    "VGG16_model.add(GlobalAveragePooling2D(input_shape=train_VGG16.shape[1:]))\n",
    "VGG16_model.add(Dense(133, activation='softmax'))\n",
    "\n",
    "VGG16_model.summary()"
   ]
  },
  {
   "cell_type": "markdown",
   "metadata": {},
   "source": [
    "### Compile the Model"
   ]
  },
  {
   "cell_type": "code",
   "execution_count": 25,
   "metadata": {
    "collapsed": true
   },
   "outputs": [],
   "source": [
    "VGG16_model.compile(loss='categorical_crossentropy', optimizer='rmsprop', metrics=['accuracy'])"
   ]
  },
  {
   "cell_type": "markdown",
   "metadata": {},
   "source": [
    "### Train the Model"
   ]
  },
  {
   "cell_type": "code",
   "execution_count": 26,
   "metadata": {},
   "outputs": [
    {
     "name": "stdout",
     "output_type": "stream",
     "text": [
      "Train on 6680 samples, validate on 835 samples\n",
      "Epoch 1/20\n",
      "6560/6680 [============================>.] - ETA: 0s - loss: 12.4748 - acc: 0.1192Epoch 00000: val_loss improved from inf to 11.16669, saving model to saved_models/weights.best.VGG16.hdf5\n",
      "6680/6680 [==============================] - 4s - loss: 12.4581 - acc: 0.1204 - val_loss: 11.1667 - val_acc: 0.2036\n",
      "Epoch 2/20\n",
      "6560/6680 [============================>.] - ETA: 0s - loss: 10.5660 - acc: 0.2584Epoch 00001: val_loss improved from 11.16669 to 10.29571, saving model to saved_models/weights.best.VGG16.hdf5\n",
      "6680/6680 [==============================] - 2s - loss: 10.5510 - acc: 0.2596 - val_loss: 10.2957 - val_acc: 0.2754\n",
      "Epoch 3/20\n",
      "6520/6680 [============================>.] - ETA: 0s - loss: 9.9528 - acc: 0.3166Epoch 00002: val_loss improved from 10.29571 to 10.11238, saving model to saved_models/weights.best.VGG16.hdf5\n",
      "6680/6680 [==============================] - 2s - loss: 9.9604 - acc: 0.3169 - val_loss: 10.1124 - val_acc: 0.2958\n",
      "Epoch 4/20\n",
      "6540/6680 [============================>.] - ETA: 0s - loss: 9.6607 - acc: 0.3534Epoch 00003: val_loss improved from 10.11238 to 9.93861, saving model to saved_models/weights.best.VGG16.hdf5\n",
      "6680/6680 [==============================] - 2s - loss: 9.6920 - acc: 0.3516 - val_loss: 9.9386 - val_acc: 0.3150\n",
      "Epoch 5/20\n",
      "6560/6680 [============================>.] - ETA: 0s - loss: 9.5496 - acc: 0.3674Epoch 00004: val_loss did not improve\n",
      "6680/6680 [==============================] - 2s - loss: 9.5610 - acc: 0.3666 - val_loss: 9.9654 - val_acc: 0.3114\n",
      "Epoch 6/20\n",
      "6540/6680 [============================>.] - ETA: 0s - loss: 9.4458 - acc: 0.3836Epoch 00005: val_loss improved from 9.93861 to 9.79675, saving model to saved_models/weights.best.VGG16.hdf5\n",
      "6680/6680 [==============================] - 2s - loss: 9.4467 - acc: 0.3837 - val_loss: 9.7968 - val_acc: 0.3425\n",
      "Epoch 7/20\n",
      "6580/6680 [============================>.] - ETA: 0s - loss: 9.3395 - acc: 0.3970Epoch 00006: val_loss did not improve\n",
      "6680/6680 [==============================] - 2s - loss: 9.3382 - acc: 0.3966 - val_loss: 9.8227 - val_acc: 0.3281\n",
      "Epoch 8/20\n",
      "6500/6680 [============================>.] - ETA: 0s - loss: 9.2568 - acc: 0.4046Epoch 00007: val_loss improved from 9.79675 to 9.61297, saving model to saved_models/weights.best.VGG16.hdf5\n",
      "6680/6680 [==============================] - 2s - loss: 9.2219 - acc: 0.4069 - val_loss: 9.6130 - val_acc: 0.3246\n",
      "Epoch 9/20\n",
      "6560/6680 [============================>.] - ETA: 0s - loss: 8.9044 - acc: 0.4212Epoch 00008: val_loss improved from 9.61297 to 9.39093, saving model to saved_models/weights.best.VGG16.hdf5\n",
      "6680/6680 [==============================] - 2s - loss: 8.8793 - acc: 0.4229 - val_loss: 9.3909 - val_acc: 0.3557\n",
      "Epoch 10/20\n",
      "6640/6680 [============================>.] - ETA: 0s - loss: 8.7761 - acc: 0.4411Epoch 00009: val_loss improved from 9.39093 to 9.35115, saving model to saved_models/weights.best.VGG16.hdf5\n",
      "6680/6680 [==============================] - 2s - loss: 8.7840 - acc: 0.4403 - val_loss: 9.3511 - val_acc: 0.3569\n",
      "Epoch 11/20\n",
      "6540/6680 [============================>.] - ETA: 0s - loss: 8.6942 - acc: 0.4413Epoch 00010: val_loss improved from 9.35115 to 9.04328, saving model to saved_models/weights.best.VGG16.hdf5\n",
      "6680/6680 [==============================] - 2s - loss: 8.6689 - acc: 0.4422 - val_loss: 9.0433 - val_acc: 0.3665\n",
      "Epoch 12/20\n",
      "6660/6680 [============================>.] - ETA: 0s - loss: 8.2999 - acc: 0.4593Epoch 00011: val_loss improved from 9.04328 to 8.87037, saving model to saved_models/weights.best.VGG16.hdf5\n",
      "6680/6680 [==============================] - 2s - loss: 8.2994 - acc: 0.4593 - val_loss: 8.8704 - val_acc: 0.3832\n",
      "Epoch 13/20\n",
      "6660/6680 [============================>.] - ETA: 0s - loss: 8.1453 - acc: 0.4727Epoch 00012: val_loss improved from 8.87037 to 8.71180, saving model to saved_models/weights.best.VGG16.hdf5\n",
      "6680/6680 [==============================] - 2s - loss: 8.1445 - acc: 0.4726 - val_loss: 8.7118 - val_acc: 0.3737\n",
      "Epoch 14/20\n",
      "6600/6680 [============================>.] - ETA: 0s - loss: 8.0195 - acc: 0.4836Epoch 00013: val_loss improved from 8.71180 to 8.69922, saving model to saved_models/weights.best.VGG16.hdf5\n",
      "6680/6680 [==============================] - 2s - loss: 8.0227 - acc: 0.4835 - val_loss: 8.6992 - val_acc: 0.3952\n",
      "Epoch 15/20\n",
      "6520/6680 [============================>.] - ETA: 0s - loss: 8.0164 - acc: 0.4887Epoch 00014: val_loss improved from 8.69922 to 8.60931, saving model to saved_models/weights.best.VGG16.hdf5\n",
      "6680/6680 [==============================] - 1s - loss: 7.9924 - acc: 0.4903 - val_loss: 8.6093 - val_acc: 0.4000\n",
      "Epoch 16/20\n",
      "6640/6680 [============================>.] - ETA: 0s - loss: 7.9507 - acc: 0.4959Epoch 00015: val_loss improved from 8.60931 to 8.58773, saving model to saved_models/weights.best.VGG16.hdf5\n",
      "6680/6680 [==============================] - 2s - loss: 7.9470 - acc: 0.4961 - val_loss: 8.5877 - val_acc: 0.4012\n",
      "Epoch 17/20\n",
      "6660/6680 [============================>.] - ETA: 0s - loss: 7.8986 - acc: 0.4997Epoch 00016: val_loss improved from 8.58773 to 8.55761, saving model to saved_models/weights.best.VGG16.hdf5\n",
      "6680/6680 [==============================] - 2s - loss: 7.8991 - acc: 0.4997 - val_loss: 8.5576 - val_acc: 0.4060\n",
      "Epoch 18/20\n",
      "6620/6680 [============================>.] - ETA: 0s - loss: 7.8799 - acc: 0.5024Epoch 00017: val_loss improved from 8.55761 to 8.55646, saving model to saved_models/weights.best.VGG16.hdf5\n",
      "6680/6680 [==============================] - 2s - loss: 7.8807 - acc: 0.5021 - val_loss: 8.5565 - val_acc: 0.4012\n",
      "Epoch 19/20\n",
      "6540/6680 [============================>.] - ETA: 0s - loss: 7.7549 - acc: 0.5093Epoch 00018: val_loss improved from 8.55646 to 8.46337, saving model to saved_models/weights.best.VGG16.hdf5\n",
      "6680/6680 [==============================] - 2s - loss: 7.7617 - acc: 0.5088 - val_loss: 8.4634 - val_acc: 0.4072\n",
      "Epoch 20/20\n",
      "6500/6680 [============================>.] - ETA: 0s - loss: 7.7048 - acc: 0.5118Epoch 00019: val_loss improved from 8.46337 to 8.41324, saving model to saved_models/weights.best.VGG16.hdf5\n",
      "6680/6680 [==============================] - 2s - loss: 7.7261 - acc: 0.5106 - val_loss: 8.4132 - val_acc: 0.4132\n"
     ]
    },
    {
     "data": {
      "text/plain": [
       "<keras.callbacks.History at 0x117fb9cd0>"
      ]
     },
     "execution_count": 26,
     "metadata": {},
     "output_type": "execute_result"
    }
   ],
   "source": [
    "checkpointer = ModelCheckpoint(filepath='saved_models/weights.best.VGG16.hdf5', \n",
    "                               verbose=1, save_best_only=True)\n",
    "\n",
    "VGG16_model.fit(train_VGG16, train_targets, \n",
    "          validation_data=(valid_VGG16, valid_targets),\n",
    "          epochs=20, batch_size=20, callbacks=[checkpointer], verbose=1)"
   ]
  },
  {
   "cell_type": "markdown",
   "metadata": {},
   "source": [
    "### Load the Model with the Best Validation Loss"
   ]
  },
  {
   "cell_type": "code",
   "execution_count": 27,
   "metadata": {
    "collapsed": true
   },
   "outputs": [],
   "source": [
    "VGG16_model.load_weights('saved_models/weights.best.VGG16.hdf5')"
   ]
  },
  {
   "cell_type": "markdown",
   "metadata": {},
   "source": [
    "### Test the Model\n",
    "\n",
    "Now, we can use the CNN to test how well it identifies breed within our test dataset of dog images.  We print the test accuracy below."
   ]
  },
  {
   "cell_type": "code",
   "execution_count": 28,
   "metadata": {},
   "outputs": [
    {
     "name": "stdout",
     "output_type": "stream",
     "text": [
      "Test accuracy: 41.0000%\n"
     ]
    }
   ],
   "source": [
    "# get index of predicted dog breed for each image in test set\n",
    "VGG16_predictions = [np.argmax(VGG16_model.predict(np.expand_dims(feature, axis=0))) for feature in test_VGG16]\n",
    "\n",
    "# report test accuracy\n",
    "test_accuracy = 100*np.sum(np.array(VGG16_predictions)==np.argmax(test_targets, axis=1))/len(VGG16_predictions)\n",
    "print('Test accuracy: %.4f%%' % test_accuracy)"
   ]
  },
  {
   "cell_type": "markdown",
   "metadata": {},
   "source": [
    "### Predict Dog Breed with the Model"
   ]
  },
  {
   "cell_type": "code",
   "execution_count": 29,
   "metadata": {
    "collapsed": true
   },
   "outputs": [],
   "source": [
    "from extract_bottleneck_features import *\n",
    "\n",
    "def VGG16_predict_breed(img_path):\n",
    "    # extract bottleneck features\n",
    "    bottleneck_feature = extract_VGG16(path_to_tensor(img_path))\n",
    "    # obtain predicted vector\n",
    "    predicted_vector = VGG16_model.predict(bottleneck_feature)\n",
    "    # return dog breed that is predicted by the model\n",
    "    return dog_names[np.argmax(predicted_vector)]"
   ]
  },
  {
   "cell_type": "markdown",
   "metadata": {},
   "source": [
    "---\n",
    "<a id='step5'></a>\n",
    "## Step 5: Create a CNN to Classify Dog Breeds (using Transfer Learning)\n",
    "\n",
    "You will now use transfer learning to create a CNN that can identify dog breed from images.  Your CNN must attain at least 60% accuracy on the test set.\n",
    "\n",
    "In Step 4, we used transfer learning to create a CNN using VGG-16 bottleneck features.  In this section, you must use the bottleneck features from a different pre-trained model.  To make things easier for you, we have pre-computed the features for all of the networks that are currently available in Keras:\n",
    "- [VGG-19](https://s3-us-west-1.amazonaws.com/udacity-aind/dog-project/DogVGG19Data.npz) bottleneck features\n",
    "- [ResNet-50](https://s3-us-west-1.amazonaws.com/udacity-aind/dog-project/DogResnet50Data.npz) bottleneck features\n",
    "- [Inception](https://s3-us-west-1.amazonaws.com/udacity-aind/dog-project/DogInceptionV3Data.npz) bottleneck features\n",
    "- [Xception](https://s3-us-west-1.amazonaws.com/udacity-aind/dog-project/DogXceptionData.npz) bottleneck features\n",
    "\n",
    "The files are encoded as such:\n",
    "\n",
    "    Dog{network}Data.npz\n",
    "    \n",
    "where `{network}`, in the above filename, can be one of `VGG19`, `Resnet50`, `InceptionV3`, or `Xception`.  Pick one of the above architectures, download the corresponding bottleneck features, and store the downloaded file in the `bottleneck_features/` folder in the repository.\n",
    "\n",
    "### (IMPLEMENTATION) Obtain Bottleneck Features\n",
    "\n",
    "In the code block below, extract the bottleneck features corresponding to the train, test, and validation sets by running the following:\n",
    "\n",
    "    bottleneck_features = np.load('bottleneck_features/Dog{network}Data.npz')\n",
    "    train_{network} = bottleneck_features['train']\n",
    "    valid_{network} = bottleneck_features['valid']\n",
    "    test_{network} = bottleneck_features['test']"
   ]
  },
  {
   "cell_type": "code",
   "execution_count": 30,
   "metadata": {
    "collapsed": true
   },
   "outputs": [],
   "source": [
    "### TODO: Obtain bottleneck features from another pre-trained CNN.\n",
    "bottleneck_features = np.load('bottleneck_features/DogVGG19Data.npz')\n",
    "train_VGG19 = bottleneck_features['train']\n",
    "valid_VGG19 = bottleneck_features['valid']\n",
    "test_VGG19 = bottleneck_features['test']"
   ]
  },
  {
   "cell_type": "code",
   "execution_count": 45,
   "metadata": {
    "collapsed": true
   },
   "outputs": [],
   "source": [
    "### TODO: Obtain bottleneck features from another pre-trained CNN.\n",
    "bottleneck_features = np.load('bottleneck_features/DogInceptionV3Data.npz')\n",
    "train_InceptionV3 = bottleneck_features['train']\n",
    "valid_InceptionV3 = bottleneck_features['valid']\n",
    "test_InceptionV3 = bottleneck_features['test']"
   ]
  },
  {
   "cell_type": "markdown",
   "metadata": {},
   "source": [
    "### (IMPLEMENTATION) Model Architecture\n",
    "\n",
    "Create a CNN to classify dog breed.  At the end of your code cell block, summarize the layers of your model by executing the line:\n",
    "    \n",
    "        <your model's name>.summary()\n",
    "   \n",
    "__Question 5:__ Outline the steps you took to get to your final CNN architecture and your reasoning at each step.  Describe why you think the architecture is suitable for the current problem.\n",
    "\n",
    "__Answer:__ \n",
    "\n"
   ]
  },
  {
   "cell_type": "code",
   "execution_count": 32,
   "metadata": {},
   "outputs": [
    {
     "name": "stdout",
     "output_type": "stream",
     "text": [
      "_________________________________________________________________\n",
      "Layer (type)                 Output Shape              Param #   \n",
      "=================================================================\n",
      "global_average_pooling2d_8 ( (None, 512)               0         \n",
      "_________________________________________________________________\n",
      "dense_7 (Dense)              (None, 133)               68229     \n",
      "=================================================================\n",
      "Total params: 68,229\n",
      "Trainable params: 68,229\n",
      "Non-trainable params: 0\n",
      "_________________________________________________________________\n"
     ]
    }
   ],
   "source": [
    "### TODO: Define your architecture.\n",
    "VGG19_model = Sequential()\n",
    "VGG19_model.add(GlobalAveragePooling2D(input_shape=train_VGG19.shape[1:]))\n",
    "VGG19_model.add(Dense(133, activation='softmax'))\n",
    "\n",
    "VGG19_model.summary()"
   ]
  },
  {
   "cell_type": "code",
   "execution_count": 46,
   "metadata": {},
   "outputs": [
    {
     "name": "stdout",
     "output_type": "stream",
     "text": [
      "_________________________________________________________________\n",
      "Layer (type)                 Output Shape              Param #   \n",
      "=================================================================\n",
      "global_average_pooling2d_9 ( (None, 2048)              0         \n",
      "_________________________________________________________________\n",
      "dense_8 (Dense)              (None, 133)               272517    \n",
      "=================================================================\n",
      "Total params: 272,517\n",
      "Trainable params: 272,517\n",
      "Non-trainable params: 0\n",
      "_________________________________________________________________\n"
     ]
    }
   ],
   "source": [
    "### TODO: Define your architecture.\n",
    "InceptionV3_model = Sequential()\n",
    "InceptionV3_model.add(GlobalAveragePooling2D(input_shape=train_InceptionV3.shape[1:]))\n",
    "InceptionV3_model.add(Dense(133, activation='softmax'))\n",
    "\n",
    "InceptionV3_model.summary()"
   ]
  },
  {
   "cell_type": "markdown",
   "metadata": {},
   "source": [
    "**Model Explanation**  \n",
    "* In this task, we have a relatively small training dataset. However, the task input is similar to the input of the original VGG19 model, in that they are both images of objects. The difference is only in that in this task, we are specifically classifying the breeds of dogs.\n",
    "* Therefore, it is probably in our best interest to reuse all the layers of the original VGG19 model except the last one where we instead add a layer that classifies 133 different dog breed categories.\n",
    "* It prevents the problem of overfitting with training on a small dataset, and it utilizes the power of the VGG19 model for our application's task."
   ]
  },
  {
   "cell_type": "markdown",
   "metadata": {},
   "source": [
    "**Change From VGG19 to InceptionV3**  \n",
    "* After testing on VGG19 model, I saw that the model accuracy of VGG19 based model plateau at around 60%, so I tried InceptionV3 as the base model instead, which has a higher accuracy at its original image classification task. The model construction is still the same."
   ]
  },
  {
   "cell_type": "markdown",
   "metadata": {},
   "source": [
    "### (IMPLEMENTATION) Compile the Model"
   ]
  },
  {
   "cell_type": "code",
   "execution_count": 34,
   "metadata": {
    "collapsed": true
   },
   "outputs": [],
   "source": [
    "### TODO: Compile the model.\n",
    "VGG19_model.compile(loss='categorical_crossentropy', optimizer='rmsprop', metrics=['accuracy'])"
   ]
  },
  {
   "cell_type": "code",
   "execution_count": 47,
   "metadata": {
    "collapsed": true
   },
   "outputs": [],
   "source": [
    "### TODO: Compile the model.\n",
    "InceptionV3_model.compile(loss='categorical_crossentropy', optimizer='rmsprop', metrics=['accuracy'])"
   ]
  },
  {
   "cell_type": "markdown",
   "metadata": {},
   "source": [
    "### (IMPLEMENTATION) Train the Model\n",
    "\n",
    "Train your model in the code cell below.  Use model checkpointing to save the model that attains the best validation loss.  \n",
    "\n",
    "You are welcome to [augment the training data](https://blog.keras.io/building-powerful-image-classification-models-using-very-little-data.html), but this is not a requirement. "
   ]
  },
  {
   "cell_type": "code",
   "execution_count": 41,
   "metadata": {},
   "outputs": [
    {
     "name": "stdout",
     "output_type": "stream",
     "text": [
      "Train on 6680 samples, validate on 835 samples\n",
      "Epoch 1/80\n",
      "6520/6680 [============================>.] - ETA: 0s - loss: 4.2775 - acc: 0.7317Epoch 00000: val_loss improved from inf to 5.70742, saving model to saved_models/weights.best.VGG19.hdf5\n",
      "6680/6680 [==============================] - 2s - loss: 4.2935 - acc: 0.7307 - val_loss: 5.7074 - val_acc: 0.5653\n",
      "Epoch 2/80\n",
      "6520/6680 [============================>.] - ETA: 0s - loss: 4.3034 - acc: 0.7314Epoch 00001: val_loss did not improve\n",
      "6680/6680 [==============================] - 2s - loss: 4.2921 - acc: 0.7322 - val_loss: 5.7586 - val_acc: 0.5701\n",
      "Epoch 3/80\n",
      "6480/6680 [============================>.] - ETA: 0s - loss: 4.2886 - acc: 0.7327Epoch 00002: val_loss improved from 5.70742 to 5.69924, saving model to saved_models/weights.best.VGG19.hdf5\n",
      "6680/6680 [==============================] - 2s - loss: 4.2885 - acc: 0.7326 - val_loss: 5.6992 - val_acc: 0.5701\n",
      "Epoch 4/80\n",
      "6560/6680 [============================>.] - ETA: 0s - loss: 4.2920 - acc: 0.7319Epoch 00003: val_loss did not improve\n",
      "6680/6680 [==============================] - 1s - loss: 4.2849 - acc: 0.7323 - val_loss: 5.7312 - val_acc: 0.5689\n",
      "Epoch 5/80\n",
      "6600/6680 [============================>.] - ETA: 0s - loss: 4.2810 - acc: 0.7333Epoch 00004: val_loss did not improve\n",
      "6680/6680 [==============================] - 1s - loss: 4.2853 - acc: 0.7331 - val_loss: 5.7023 - val_acc: 0.5760\n",
      "Epoch 6/80\n",
      "6640/6680 [============================>.] - ETA: 0s - loss: 4.2813 - acc: 0.7324Epoch 00005: val_loss did not improve\n",
      "6680/6680 [==============================] - 2s - loss: 4.2846 - acc: 0.7322 - val_loss: 5.7058 - val_acc: 0.5749\n",
      "Epoch 7/80\n",
      "6480/6680 [============================>.] - ETA: 0s - loss: 4.2519 - acc: 0.7327Epoch 00006: val_loss did not improve\n",
      "6680/6680 [==============================] - 1s - loss: 4.2407 - acc: 0.7334 - val_loss: 5.8157 - val_acc: 0.5737\n",
      "Epoch 8/80\n",
      "6640/6680 [============================>.] - ETA: 0s - loss: 4.1528 - acc: 0.7363Epoch 00007: val_loss did not improve\n",
      "6680/6680 [==============================] - 2s - loss: 4.1497 - acc: 0.7365 - val_loss: 5.7816 - val_acc: 0.5749\n",
      "Epoch 9/80\n",
      "6480/6680 [============================>.] - ETA: 0s - loss: 4.1181 - acc: 0.7384Epoch 00008: val_loss improved from 5.69924 to 5.59851, saving model to saved_models/weights.best.VGG19.hdf5\n",
      "6680/6680 [==============================] - 1s - loss: 4.0986 - acc: 0.7398 - val_loss: 5.5985 - val_acc: 0.5749\n",
      "Epoch 10/80\n",
      "6540/6680 [============================>.] - ETA: 0s - loss: 4.0614 - acc: 0.7448Epoch 00009: val_loss did not improve\n",
      "6680/6680 [==============================] - 2s - loss: 4.0679 - acc: 0.7445 - val_loss: 5.6548 - val_acc: 0.5653\n",
      "Epoch 11/80\n",
      "6640/6680 [============================>.] - ETA: 0s - loss: 4.0464 - acc: 0.7464Epoch 00010: val_loss improved from 5.59851 to 5.58828, saving model to saved_models/weights.best.VGG19.hdf5\n",
      "6680/6680 [==============================] - 2s - loss: 4.0535 - acc: 0.7460 - val_loss: 5.5883 - val_acc: 0.5653\n",
      "Epoch 12/80\n",
      "6500/6680 [============================>.] - ETA: 0s - loss: 4.0492 - acc: 0.7465Epoch 00011: val_loss improved from 5.58828 to 5.46448, saving model to saved_models/weights.best.VGG19.hdf5\n",
      "6680/6680 [==============================] - 2s - loss: 4.0438 - acc: 0.7469 - val_loss: 5.4645 - val_acc: 0.5856\n",
      "Epoch 13/80\n",
      "6640/6680 [============================>.] - ETA: 0s - loss: 4.0487 - acc: 0.7473Epoch 00012: val_loss did not improve\n",
      "6680/6680 [==============================] - 2s - loss: 4.0414 - acc: 0.7478 - val_loss: 5.5473 - val_acc: 0.5868\n",
      "Epoch 14/80\n",
      "6540/6680 [============================>.] - ETA: 0s - loss: 4.0385 - acc: 0.7485Epoch 00013: val_loss did not improve\n",
      "6680/6680 [==============================] - 2s - loss: 4.0359 - acc: 0.7487 - val_loss: 5.5042 - val_acc: 0.5784\n",
      "Epoch 15/80\n",
      "6560/6680 [============================>.] - ETA: 0s - loss: 4.0163 - acc: 0.7494Epoch 00014: val_loss did not improve\n",
      "6680/6680 [==============================] - 2s - loss: 4.0334 - acc: 0.7484 - val_loss: 5.6218 - val_acc: 0.5713\n",
      "Epoch 16/80\n",
      "6640/6680 [============================>.] - ETA: 0s - loss: 4.0352 - acc: 0.7485Epoch 00015: val_loss did not improve\n",
      "6680/6680 [==============================] - 2s - loss: 4.0352 - acc: 0.7485 - val_loss: 5.5390 - val_acc: 0.5916\n",
      "Epoch 17/80\n",
      "6520/6680 [============================>.] - ETA: 0s - loss: 4.0062 - acc: 0.7503Epoch 00016: val_loss did not improve\n",
      "6680/6680 [==============================] - 2s - loss: 4.0314 - acc: 0.7487 - val_loss: 5.5076 - val_acc: 0.5868\n",
      "Epoch 18/80\n",
      "6660/6680 [============================>.] - ETA: 0s - loss: 4.0369 - acc: 0.7482Epoch 00017: val_loss did not improve\n",
      "6680/6680 [==============================] - 2s - loss: 4.0296 - acc: 0.7487 - val_loss: 5.4897 - val_acc: 0.5904\n",
      "Epoch 19/80\n",
      "6540/6680 [============================>.] - ETA: 0s - loss: 4.0367 - acc: 0.7488Epoch 00018: val_loss did not improve\n",
      "6680/6680 [==============================] - 2s - loss: 4.0293 - acc: 0.7493 - val_loss: 5.4897 - val_acc: 0.5892\n",
      "Epoch 20/80\n",
      "6640/6680 [============================>.] - ETA: 0s - loss: 4.0192 - acc: 0.7500Epoch 00019: val_loss did not improve\n",
      "6680/6680 [==============================] - 2s - loss: 4.0289 - acc: 0.7494 - val_loss: 5.5789 - val_acc: 0.5844\n",
      "Epoch 21/80\n",
      "6480/6680 [============================>.] - ETA: 0s - loss: 4.0353 - acc: 0.7491Epoch 00020: val_loss did not improve\n",
      "6680/6680 [==============================] - 2s - loss: 4.0264 - acc: 0.7496 - val_loss: 5.4794 - val_acc: 0.5964\n",
      "Epoch 22/80\n",
      "6520/6680 [============================>.] - ETA: 0s - loss: 4.0416 - acc: 0.7485Epoch 00021: val_loss did not improve\n",
      "6680/6680 [==============================] - 2s - loss: 4.0294 - acc: 0.7491 - val_loss: 5.5123 - val_acc: 0.5964\n",
      "Epoch 23/80\n",
      "6580/6680 [============================>.] - ETA: 0s - loss: 4.0285 - acc: 0.7491Epoch 00022: val_loss did not improve\n",
      "6680/6680 [==============================] - 1s - loss: 4.0285 - acc: 0.7491 - val_loss: 5.4924 - val_acc: 0.5964\n",
      "Epoch 24/80\n",
      "6580/6680 [============================>.] - ETA: 0s - loss: 4.0085 - acc: 0.7509Epoch 00023: val_loss did not improve\n",
      "6680/6680 [==============================] - 2s - loss: 4.0257 - acc: 0.7499 - val_loss: 5.5475 - val_acc: 0.5928\n",
      "Epoch 25/80\n",
      "6600/6680 [============================>.] - ETA: 0s - loss: 4.0234 - acc: 0.7497Epoch 00024: val_loss did not improve\n",
      "6680/6680 [==============================] - 2s - loss: 4.0283 - acc: 0.7494 - val_loss: 5.5300 - val_acc: 0.5832\n",
      "Epoch 26/80\n",
      "6560/6680 [============================>.] - ETA: 0s - loss: 4.0189 - acc: 0.7503Epoch 00025: val_loss did not improve\n",
      "6680/6680 [==============================] - 2s - loss: 4.0263 - acc: 0.7499 - val_loss: 5.5993 - val_acc: 0.5868\n",
      "Epoch 27/80\n",
      "6580/6680 [============================>.] - ETA: 0s - loss: 4.0298 - acc: 0.7494Epoch 00026: val_loss did not improve\n",
      "6680/6680 [==============================] - 1s - loss: 4.0274 - acc: 0.7496 - val_loss: 5.5144 - val_acc: 0.5940\n",
      "Epoch 28/80\n",
      "6500/6680 [============================>.] - ETA: 0s - loss: 4.0380 - acc: 0.7488Epoch 00027: val_loss did not improve\n",
      "6680/6680 [==============================] - 1s - loss: 4.0281 - acc: 0.7494 - val_loss: 5.4867 - val_acc: 0.5868\n",
      "Epoch 29/80\n",
      "6620/6680 [============================>.] - ETA: 0s - loss: 4.0427 - acc: 0.7488Epoch 00028: val_loss did not improve\n",
      "6680/6680 [==============================] - 1s - loss: 4.0281 - acc: 0.7497 - val_loss: 5.5542 - val_acc: 0.5952\n",
      "Epoch 30/80\n",
      "6640/6680 [============================>.] - ETA: 0s - loss: 4.0177 - acc: 0.7502Epoch 00029: val_loss did not improve\n",
      "6680/6680 [==============================] - 2s - loss: 4.0250 - acc: 0.7497 - val_loss: 5.5866 - val_acc: 0.5904\n",
      "Epoch 31/80\n",
      "6500/6680 [============================>.] - ETA: 0s - loss: 4.0531 - acc: 0.7480Epoch 00030: val_loss did not improve\n",
      "6680/6680 [==============================] - 2s - loss: 4.0283 - acc: 0.7496 - val_loss: 5.5643 - val_acc: 0.5916\n",
      "Epoch 32/80\n",
      "6660/6680 [============================>.] - ETA: 0s - loss: 4.0339 - acc: 0.7489Epoch 00031: val_loss did not improve\n"
     ]
    },
    {
     "name": "stdout",
     "output_type": "stream",
     "text": [
      "6680/6680 [==============================] - 1s - loss: 4.0266 - acc: 0.7494 - val_loss: 5.4946 - val_acc: 0.5976\n",
      "Epoch 33/80\n",
      "6500/6680 [============================>.] - ETA: 0s - loss: 3.9984 - acc: 0.7517Epoch 00032: val_loss did not improve\n",
      "6680/6680 [==============================] - 1s - loss: 4.0282 - acc: 0.7499 - val_loss: 5.5570 - val_acc: 0.5940\n",
      "Epoch 34/80\n",
      "6480/6680 [============================>.] - ETA: 0s - loss: 4.0322 - acc: 0.7495Epoch 00033: val_loss did not improve\n",
      "6680/6680 [==============================] - 1s - loss: 4.0273 - acc: 0.7499 - val_loss: 5.5197 - val_acc: 0.5952\n",
      "Epoch 35/80\n",
      "6600/6680 [============================>.] - ETA: 0s - loss: 4.0243 - acc: 0.7502Epoch 00034: val_loss did not improve\n",
      "6680/6680 [==============================] - 2s - loss: 4.0253 - acc: 0.7500 - val_loss: 5.5414 - val_acc: 0.5892\n",
      "Epoch 36/80\n",
      "6600/6680 [============================>.] - ETA: 0s - loss: 4.0284 - acc: 0.7497Epoch 00035: val_loss did not improve\n",
      "6680/6680 [==============================] - 1s - loss: 4.0260 - acc: 0.7499 - val_loss: 5.5432 - val_acc: 0.5952\n",
      "Epoch 37/80\n",
      "6640/6680 [============================>.] - ETA: 0s - loss: 4.0160 - acc: 0.7500Epoch 00036: val_loss did not improve\n",
      "6680/6680 [==============================] - 2s - loss: 4.0258 - acc: 0.7494 - val_loss: 5.5962 - val_acc: 0.5868\n",
      "Epoch 38/80\n",
      "6540/6680 [============================>.] - ETA: 0s - loss: 4.0308 - acc: 0.7489Epoch 00037: val_loss did not improve\n",
      "6680/6680 [==============================] - 1s - loss: 4.0235 - acc: 0.7494 - val_loss: 5.5904 - val_acc: 0.5904\n",
      "Epoch 39/80\n",
      "6660/6680 [============================>.] - ETA: 0s - loss: 4.0180 - acc: 0.7502Epoch 00038: val_loss did not improve\n",
      "6680/6680 [==============================] - 2s - loss: 4.0229 - acc: 0.7499 - val_loss: 5.5556 - val_acc: 0.5964\n",
      "Epoch 40/80\n",
      "6600/6680 [============================>.] - ETA: 0s - loss: 4.0298 - acc: 0.7492Epoch 00039: val_loss did not improve\n",
      "6680/6680 [==============================] - 1s - loss: 4.0201 - acc: 0.7499 - val_loss: 5.5713 - val_acc: 0.5928\n",
      "Epoch 41/80\n",
      "6480/6680 [============================>.] - ETA: 0s - loss: 4.0234 - acc: 0.7494Epoch 00040: val_loss did not improve\n",
      "6680/6680 [==============================] - 1s - loss: 4.0188 - acc: 0.7497 - val_loss: 5.5556 - val_acc: 0.5964\n",
      "Epoch 42/80\n",
      "6500/6680 [============================>.] - ETA: 0s - loss: 4.0206 - acc: 0.7497Epoch 00041: val_loss did not improve\n",
      "6680/6680 [==============================] - 1s - loss: 4.0184 - acc: 0.7499 - val_loss: 5.6108 - val_acc: 0.5952\n",
      "Epoch 43/80\n",
      "6600/6680 [============================>.] - ETA: 0s - loss: 3.9964 - acc: 0.7506Epoch 00042: val_loss did not improve\n",
      "6680/6680 [==============================] - 2s - loss: 4.0138 - acc: 0.7496 - val_loss: 5.7324 - val_acc: 0.5749\n",
      "Epoch 44/80\n",
      "6580/6680 [============================>.] - ETA: 0s - loss: 3.9771 - acc: 0.7505Epoch 00043: val_loss did not improve\n",
      "6680/6680 [==============================] - 1s - loss: 3.9876 - acc: 0.7499 - val_loss: 5.7421 - val_acc: 0.5808\n",
      "Epoch 45/80\n",
      "6600/6680 [============================>.] - ETA: 0s - loss: 3.9772 - acc: 0.7515Epoch 00044: val_loss did not improve\n",
      "6680/6680 [==============================] - 1s - loss: 3.9730 - acc: 0.7518 - val_loss: 5.5920 - val_acc: 0.5856\n",
      "Epoch 46/80\n",
      "6500/6680 [============================>.] - ETA: 0s - loss: 3.9556 - acc: 0.7534Epoch 00045: val_loss did not improve\n",
      "6680/6680 [==============================] - 1s - loss: 3.9683 - acc: 0.7525 - val_loss: 5.5922 - val_acc: 0.5916\n",
      "Epoch 47/80\n",
      "6620/6680 [============================>.] - ETA: 0s - loss: 3.9651 - acc: 0.7527Epoch 00046: val_loss did not improve\n",
      "6680/6680 [==============================] - 2s - loss: 3.9612 - acc: 0.7528 - val_loss: 5.5518 - val_acc: 0.6012\n",
      "Epoch 48/80\n",
      "6560/6680 [============================>.] - ETA: 0s - loss: 3.9558 - acc: 0.7535Epoch 00047: val_loss did not improve\n",
      "6680/6680 [==============================] - 2s - loss: 3.9574 - acc: 0.7533 - val_loss: 5.5997 - val_acc: 0.5844\n",
      "Epoch 49/80\n",
      "6560/6680 [============================>.] - ETA: 0s - loss: 3.9531 - acc: 0.7535Epoch 00048: val_loss did not improve\n",
      "6680/6680 [==============================] - 1s - loss: 3.9569 - acc: 0.7533 - val_loss: 5.5476 - val_acc: 0.5940\n",
      "Epoch 50/80\n",
      "6580/6680 [============================>.] - ETA: 0s - loss: 3.9381 - acc: 0.7552Epoch 00049: val_loss did not improve\n",
      "6680/6680 [==============================] - 1s - loss: 3.9563 - acc: 0.7540 - val_loss: 5.5580 - val_acc: 0.5880\n",
      "Epoch 51/80\n",
      "6560/6680 [============================>.] - ETA: 0s - loss: 3.9651 - acc: 0.7535Epoch 00050: val_loss did not improve\n",
      "6680/6680 [==============================] - 2s - loss: 3.9566 - acc: 0.7540 - val_loss: 5.5701 - val_acc: 0.5928\n",
      "Epoch 52/80\n",
      "6520/6680 [============================>.] - ETA: 0s - loss: 3.9578 - acc: 0.7540Epoch 00051: val_loss did not improve\n",
      "6680/6680 [==============================] - 1s - loss: 3.9547 - acc: 0.7542 - val_loss: 5.5539 - val_acc: 0.5952\n",
      "Epoch 53/80\n",
      "6640/6680 [============================>.] - ETA: 0s - loss: 3.9510 - acc: 0.7541Epoch 00052: val_loss did not improve\n",
      "6680/6680 [==============================] - 1s - loss: 3.9539 - acc: 0.7539 - val_loss: 5.6076 - val_acc: 0.5880\n",
      "Epoch 54/80\n",
      "6500/6680 [============================>.] - ETA: 0s - loss: 3.9379 - acc: 0.7546Epoch 00053: val_loss did not improve\n",
      "6680/6680 [==============================] - 1s - loss: 3.9524 - acc: 0.7537 - val_loss: 5.6561 - val_acc: 0.5856\n",
      "Epoch 55/80\n",
      "6640/6680 [============================>.] - ETA: 0s - loss: 3.9231 - acc: 0.7532Epoch 00054: val_loss did not improve\n",
      "6680/6680 [==============================] - 1s - loss: 3.9238 - acc: 0.7531 - val_loss: 5.6777 - val_acc: 0.5868\n",
      "Epoch 56/80\n",
      "6500/6680 [============================>.] - ETA: 0s - loss: 3.8653 - acc: 0.7557Epoch 00055: val_loss did not improve\n",
      "6680/6680 [==============================] - 2s - loss: 3.8674 - acc: 0.7557 - val_loss: 5.5678 - val_acc: 0.5916\n",
      "Epoch 57/80\n",
      "6620/6680 [============================>.] - ETA: 0s - loss: 3.8612 - acc: 0.7571Epoch 00056: val_loss did not improve\n",
      "6680/6680 [==============================] - 2s - loss: 3.8531 - acc: 0.7576 - val_loss: 5.5775 - val_acc: 0.5928\n",
      "Epoch 58/80\n",
      "6600/6680 [============================>.] - ETA: 0s - loss: 3.8369 - acc: 0.7605Epoch 00057: val_loss did not improve\n",
      "6680/6680 [==============================] - 2s - loss: 3.8440 - acc: 0.7600 - val_loss: 5.4990 - val_acc: 0.5940\n",
      "Epoch 59/80\n",
      "6500/6680 [============================>.] - ETA: 0s - loss: 3.8584 - acc: 0.7595Epoch 00058: val_loss did not improve\n",
      "6680/6680 [==============================] - 1s - loss: 3.8342 - acc: 0.7609 - val_loss: 5.4717 - val_acc: 0.5916\n",
      "Epoch 60/80\n",
      "6560/6680 [============================>.] - ETA: 0s - loss: 3.8347 - acc: 0.7607Epoch 00059: val_loss did not improve\n",
      "6680/6680 [==============================] - 1s - loss: 3.8358 - acc: 0.7606 - val_loss: 5.5167 - val_acc: 0.5916\n",
      "Epoch 61/80\n",
      "6540/6680 [============================>.] - ETA: 0s - loss: 3.8194 - acc: 0.7621Epoch 00060: val_loss did not improve\n",
      "6680/6680 [==============================] - 2s - loss: 3.8335 - acc: 0.7612 - val_loss: 5.4860 - val_acc: 0.5964\n",
      "Epoch 62/80\n",
      "6540/6680 [============================>.] - ETA: 0s - loss: 3.8426 - acc: 0.7606Epoch 00061: val_loss did not improve\n",
      "6680/6680 [==============================] - 1s - loss: 3.8320 - acc: 0.7612 - val_loss: 5.5230 - val_acc: 0.5964\n",
      "Epoch 63/80\n",
      "6500/6680 [============================>.] - ETA: 0s - loss: 3.8301 - acc: 0.7617Epoch 00062: val_loss did not improve\n",
      "6680/6680 [==============================] - 2s - loss: 3.8299 - acc: 0.7617 - val_loss: 5.5233 - val_acc: 0.5964\n",
      "Epoch 64/80\n",
      "6660/6680 [============================>.] - ETA: 0s - loss: 3.8266 - acc: 0.7614Epoch 00063: val_loss improved from 5.46448 to 5.46399, saving model to saved_models/weights.best.VGG19.hdf5\n",
      "6680/6680 [==============================] - 2s - loss: 3.8296 - acc: 0.7612 - val_loss: 5.4640 - val_acc: 0.5928\n",
      "Epoch 65/80\n",
      "6660/6680 [============================>.] - ETA: 0s - loss: 3.8332 - acc: 0.7620Epoch 00064: val_loss did not improve\n"
     ]
    },
    {
     "name": "stdout",
     "output_type": "stream",
     "text": [
      "6680/6680 [==============================] - 2s - loss: 3.8290 - acc: 0.7623 - val_loss: 5.5091 - val_acc: 0.6000\n",
      "Epoch 66/80\n",
      "6660/6680 [============================>.] - ETA: 0s - loss: 3.8349 - acc: 0.7614Epoch 00065: val_loss did not improve\n",
      "6680/6680 [==============================] - 2s - loss: 3.8284 - acc: 0.7617 - val_loss: 5.4738 - val_acc: 0.5940\n",
      "Epoch 67/80\n",
      "6480/6680 [============================>.] - ETA: 0s - loss: 3.8268 - acc: 0.7620Epoch 00066: val_loss improved from 5.46399 to 5.45486, saving model to saved_models/weights.best.VGG19.hdf5\n",
      "6680/6680 [==============================] - 2s - loss: 3.8305 - acc: 0.7618 - val_loss: 5.4549 - val_acc: 0.5964\n",
      "Epoch 68/80\n",
      "6540/6680 [============================>.] - ETA: 0s - loss: 3.8336 - acc: 0.7615Epoch 00067: val_loss did not improve\n",
      "6680/6680 [==============================] - 2s - loss: 3.8304 - acc: 0.7617 - val_loss: 5.4821 - val_acc: 0.5928\n",
      "Epoch 69/80\n",
      "6500/6680 [============================>.] - ETA: 0s - loss: 3.8157 - acc: 0.7628Epoch 00068: val_loss did not improve\n",
      "6680/6680 [==============================] - 2s - loss: 3.8311 - acc: 0.7618 - val_loss: 5.5120 - val_acc: 0.5964\n",
      "Epoch 70/80\n",
      "6640/6680 [============================>.] - ETA: 0s - loss: 3.8281 - acc: 0.7620Epoch 00069: val_loss did not improve\n",
      "6680/6680 [==============================] - 2s - loss: 3.8293 - acc: 0.7620 - val_loss: 5.4924 - val_acc: 0.5952\n",
      "Epoch 71/80\n",
      "6620/6680 [============================>.] - ETA: 0s - loss: 3.8350 - acc: 0.7612Epoch 00070: val_loss did not improve\n",
      "6680/6680 [==============================] - 2s - loss: 3.8295 - acc: 0.7615 - val_loss: 5.5190 - val_acc: 0.5940\n",
      "Epoch 72/80\n",
      "6500/6680 [============================>.] - ETA: 0s - loss: 3.8280 - acc: 0.7620Epoch 00071: val_loss did not improve\n",
      "6680/6680 [==============================] - 1s - loss: 3.8310 - acc: 0.7618 - val_loss: 5.5228 - val_acc: 0.5976\n",
      "Epoch 73/80\n",
      "6480/6680 [============================>.] - ETA: 0s - loss: 3.8070 - acc: 0.7620Epoch 00072: val_loss did not improve\n",
      "6680/6680 [==============================] - 1s - loss: 3.8197 - acc: 0.7612 - val_loss: 5.6121 - val_acc: 0.5820\n",
      "Epoch 74/80\n",
      "6480/6680 [============================>.] - ETA: 0s - loss: 3.7523 - acc: 0.7637Epoch 00073: val_loss did not improve\n",
      "6680/6680 [==============================] - 1s - loss: 3.7637 - acc: 0.7630 - val_loss: 5.5494 - val_acc: 0.5808\n",
      "Epoch 75/80\n",
      "6620/6680 [============================>.] - ETA: 0s - loss: 3.7560 - acc: 0.7647Epoch 00074: val_loss did not improve\n",
      "6680/6680 [==============================] - 1s - loss: 3.7514 - acc: 0.7648 - val_loss: 5.4948 - val_acc: 0.5808\n",
      "Epoch 76/80\n",
      "6500/6680 [============================>.] - ETA: 0s - loss: 3.7594 - acc: 0.7652Epoch 00075: val_loss did not improve\n",
      "6680/6680 [==============================] - 2s - loss: 3.7472 - acc: 0.7659 - val_loss: 5.7583 - val_acc: 0.5641\n",
      "Epoch 77/80\n",
      "6660/6680 [============================>.] - ETA: 0s - loss: 3.7357 - acc: 0.7665Epoch 00076: val_loss did not improve\n",
      "6680/6680 [==============================] - 1s - loss: 3.7439 - acc: 0.7660 - val_loss: 5.5333 - val_acc: 0.5904\n",
      "Epoch 78/80\n",
      "6520/6680 [============================>.] - ETA: 0s - loss: 3.7413 - acc: 0.7666Epoch 00077: val_loss did not improve\n",
      "6680/6680 [==============================] - 2s - loss: 3.7417 - acc: 0.7665 - val_loss: 5.5310 - val_acc: 0.6000\n",
      "Epoch 79/80\n",
      "6520/6680 [============================>.] - ETA: 0s - loss: 3.7410 - acc: 0.7667Epoch 00078: val_loss did not improve\n",
      "6680/6680 [==============================] - 1s - loss: 3.7384 - acc: 0.7668 - val_loss: 5.6600 - val_acc: 0.5844\n",
      "Epoch 80/80\n",
      "6520/6680 [============================>.] - ETA: 0s - loss: 3.7692 - acc: 0.7652Epoch 00079: val_loss did not improve\n",
      "6680/6680 [==============================] - 1s - loss: 3.7414 - acc: 0.7669 - val_loss: 5.5563 - val_acc: 0.5880\n"
     ]
    },
    {
     "data": {
      "text/plain": [
       "<keras.callbacks.History at 0x124d01b90>"
      ]
     },
     "execution_count": 41,
     "metadata": {},
     "output_type": "execute_result"
    }
   ],
   "source": [
    "### TODO: Train the model.\n",
    "checkpointer = ModelCheckpoint(filepath='saved_models/weights.best.VGG19.hdf5', \n",
    "                               verbose=1, save_best_only=True)\n",
    "\n",
    "VGG19_model.fit(train_VGG19, train_targets, \n",
    "          validation_data=(valid_VGG19, valid_targets),\n",
    "          epochs=80, batch_size=20, callbacks=[checkpointer], verbose=1)"
   ]
  },
  {
   "cell_type": "code",
   "execution_count": 49,
   "metadata": {},
   "outputs": [
    {
     "name": "stdout",
     "output_type": "stream",
     "text": [
      "Train on 6680 samples, validate on 835 samples\n",
      "Epoch 1/40\n",
      "6620/6680 [============================>.] - ETA: 0s - loss: 0.0219 - acc: 0.9927Epoch 00000: val_loss improved from inf to 1.00214, saving model to saved_models/weights.best.InceptionV3.hdf5\n",
      "6680/6680 [==============================] - 4s - loss: 0.0217 - acc: 0.9928 - val_loss: 1.0021 - val_acc: 0.8443\n",
      "Epoch 2/40\n",
      "6640/6680 [============================>.] - ETA: 0s - loss: 0.0182 - acc: 0.9946Epoch 00001: val_loss improved from 1.00214 to 0.94815, saving model to saved_models/weights.best.InceptionV3.hdf5\n",
      "6680/6680 [==============================] - 3s - loss: 0.0185 - acc: 0.9945 - val_loss: 0.9482 - val_acc: 0.8611\n",
      "Epoch 3/40\n",
      "6620/6680 [============================>.] - ETA: 0s - loss: 0.0173 - acc: 0.9952Epoch 00002: val_loss did not improve\n",
      "6680/6680 [==============================] - 3s - loss: 0.0172 - acc: 0.9952 - val_loss: 0.9956 - val_acc: 0.8539\n",
      "Epoch 4/40\n",
      "6620/6680 [============================>.] - ETA: 0s - loss: 0.0173 - acc: 0.9944Epoch 00003: val_loss did not improve\n",
      "6680/6680 [==============================] - 3s - loss: 0.0171 - acc: 0.9945 - val_loss: 1.0577 - val_acc: 0.8539\n",
      "Epoch 5/40\n",
      "6560/6680 [============================>.] - ETA: 0s - loss: 0.0123 - acc: 0.9957Epoch 00004: val_loss did not improve\n",
      "6680/6680 [==============================] - 4s - loss: 0.0125 - acc: 0.9955 - val_loss: 1.0576 - val_acc: 0.8443\n",
      "Epoch 6/40\n",
      "6640/6680 [============================>.] - ETA: 0s - loss: 0.0123 - acc: 0.9964Epoch 00005: val_loss did not improve\n",
      "6680/6680 [==============================] - 3s - loss: 0.0136 - acc: 0.9961 - val_loss: 1.0832 - val_acc: 0.8467\n",
      "Epoch 7/40\n",
      "6600/6680 [============================>.] - ETA: 0s - loss: 0.0115 - acc: 0.9965Epoch 00006: val_loss did not improve\n",
      "6680/6680 [==============================] - 3s - loss: 0.0123 - acc: 0.9961 - val_loss: 1.0463 - val_acc: 0.8491\n",
      "Epoch 8/40\n",
      "6660/6680 [============================>.] - ETA: 0s - loss: 0.0119 - acc: 0.9965Epoch 00007: val_loss did not improve\n",
      "6680/6680 [==============================] - 3s - loss: 0.0123 - acc: 0.9964 - val_loss: 1.0867 - val_acc: 0.8479\n",
      "Epoch 9/40\n",
      "6580/6680 [============================>.] - ETA: 0s - loss: 0.0110 - acc: 0.9967Epoch 00008: val_loss did not improve\n",
      "6680/6680 [==============================] - 3s - loss: 0.0108 - acc: 0.9967 - val_loss: 1.0527 - val_acc: 0.8551\n",
      "Epoch 10/40\n",
      "6640/6680 [============================>.] - ETA: 0s - loss: 0.0104 - acc: 0.9971Epoch 00009: val_loss did not improve\n",
      "6680/6680 [==============================] - 3s - loss: 0.0105 - acc: 0.9970 - val_loss: 1.0837 - val_acc: 0.8491\n",
      "Epoch 11/40\n",
      "6560/6680 [============================>.] - ETA: 0s - loss: 0.0090 - acc: 0.9973Epoch 00010: val_loss did not improve\n",
      "6680/6680 [==============================] - 3s - loss: 0.0107 - acc: 0.9972 - val_loss: 1.0949 - val_acc: 0.8527\n",
      "Epoch 12/40\n",
      "6660/6680 [============================>.] - ETA: 0s - loss: 0.0106 - acc: 0.9970Epoch 00011: val_loss did not improve\n",
      "6680/6680 [==============================] - 3s - loss: 0.0106 - acc: 0.9970 - val_loss: 1.1313 - val_acc: 0.8539\n",
      "Epoch 13/40\n",
      "6660/6680 [============================>.] - ETA: 0s - loss: 0.0080 - acc: 0.9979Epoch 00012: val_loss did not improve\n",
      "6680/6680 [==============================] - 3s - loss: 0.0080 - acc: 0.9979 - val_loss: 1.1473 - val_acc: 0.8479\n",
      "Epoch 14/40\n",
      "6640/6680 [============================>.] - ETA: 0s - loss: 0.0079 - acc: 0.9979Epoch 00013: val_loss did not improve\n",
      "6680/6680 [==============================] - 3s - loss: 0.0084 - acc: 0.9978 - val_loss: 1.1515 - val_acc: 0.8503\n",
      "Epoch 15/40\n",
      "6560/6680 [============================>.] - ETA: 0s - loss: 0.0086 - acc: 0.9976Epoch 00014: val_loss did not improve\n",
      "6680/6680 [==============================] - 3s - loss: 0.0085 - acc: 0.9976 - val_loss: 1.1295 - val_acc: 0.8491\n",
      "Epoch 16/40\n",
      "6660/6680 [============================>.] - ETA: 0s - loss: 0.0077 - acc: 0.9982Epoch 00015: val_loss did not improve\n",
      "6680/6680 [==============================] - 3s - loss: 0.0077 - acc: 0.9982 - val_loss: 1.1313 - val_acc: 0.8491\n",
      "Epoch 17/40\n",
      "6600/6680 [============================>.] - ETA: 0s - loss: 0.0083 - acc: 0.9974Epoch 00016: val_loss did not improve\n",
      "6680/6680 [==============================] - 3s - loss: 0.0082 - acc: 0.9975 - val_loss: 1.1694 - val_acc: 0.8563\n",
      "Epoch 18/40\n",
      "6620/6680 [============================>.] - ETA: 0s - loss: 0.0062 - acc: 0.9980Epoch 00017: val_loss did not improve\n",
      "6680/6680 [==============================] - 3s - loss: 0.0061 - acc: 0.9981 - val_loss: 1.1477 - val_acc: 0.8599\n",
      "Epoch 19/40\n",
      "6580/6680 [============================>.] - ETA: 0s - loss: 0.0071 - acc: 0.9977Epoch 00018: val_loss did not improve\n",
      "6680/6680 [==============================] - 4s - loss: 0.0070 - acc: 0.9978 - val_loss: 1.1972 - val_acc: 0.8587\n",
      "Epoch 20/40\n",
      "6660/6680 [============================>.] - ETA: 0s - loss: 0.0066 - acc: 0.9983Epoch 00019: val_loss did not improve\n",
      "6680/6680 [==============================] - 3s - loss: 0.0066 - acc: 0.9984 - val_loss: 1.2123 - val_acc: 0.8515\n",
      "Epoch 21/40\n",
      "6660/6680 [============================>.] - ETA: 0s - loss: 0.0070 - acc: 0.9977Epoch 00020: val_loss did not improve\n",
      "6680/6680 [==============================] - 3s - loss: 0.0070 - acc: 0.9978 - val_loss: 1.2254 - val_acc: 0.8491\n",
      "Epoch 22/40\n",
      "6620/6680 [============================>.] - ETA: 0s - loss: 0.0067 - acc: 0.9980Epoch 00021: val_loss did not improve\n",
      "6680/6680 [==============================] - 3s - loss: 0.0067 - acc: 0.9981 - val_loss: 1.2016 - val_acc: 0.8479\n",
      "Epoch 23/40\n",
      "6620/6680 [============================>.] - ETA: 0s - loss: 0.0052 - acc: 0.9980Epoch 00022: val_loss did not improve\n",
      "6680/6680 [==============================] - 3s - loss: 0.0053 - acc: 0.9979 - val_loss: 1.2582 - val_acc: 0.8479\n",
      "Epoch 24/40\n",
      "6640/6680 [============================>.] - ETA: 0s - loss: 0.0047 - acc: 0.9985Epoch 00023: val_loss did not improve\n",
      "6680/6680 [==============================] - 3s - loss: 0.0047 - acc: 0.9985 - val_loss: 1.2131 - val_acc: 0.8611\n",
      "Epoch 25/40\n",
      "6580/6680 [============================>.] - ETA: 0s - loss: 0.0070 - acc: 0.9985Epoch 00024: val_loss did not improve\n",
      "6680/6680 [==============================] - 3s - loss: 0.0069 - acc: 0.9985 - val_loss: 1.2719 - val_acc: 0.8527\n",
      "Epoch 26/40\n",
      "6600/6680 [============================>.] - ETA: 0s - loss: 0.0063 - acc: 0.9985Epoch 00025: val_loss did not improve\n",
      "6680/6680 [==============================] - 3s - loss: 0.0062 - acc: 0.9985 - val_loss: 1.2404 - val_acc: 0.8563\n",
      "Epoch 27/40\n",
      "6660/6680 [============================>.] - ETA: 0s - loss: 0.0060 - acc: 0.9986Epoch 00026: val_loss did not improve\n",
      "6680/6680 [==============================] - 3s - loss: 0.0060 - acc: 0.9987 - val_loss: 1.2097 - val_acc: 0.8491\n",
      "Epoch 28/40\n",
      "6660/6680 [============================>.] - ETA: 0s - loss: 0.0052 - acc: 0.9982Epoch 00027: val_loss did not improve\n",
      "6680/6680 [==============================] - 3s - loss: 0.0052 - acc: 0.9982 - val_loss: 1.2190 - val_acc: 0.8551\n",
      "Epoch 29/40\n",
      "6600/6680 [============================>.] - ETA: 0s - loss: 0.0059 - acc: 0.9982Epoch 00028: val_loss did not improve\n",
      "6680/6680 [==============================] - 3s - loss: 0.0058 - acc: 0.9982 - val_loss: 1.2106 - val_acc: 0.8527\n",
      "Epoch 30/40\n",
      "6580/6680 [============================>.] - ETA: 0s - loss: 0.0052 - acc: 0.9986Epoch 00029: val_loss did not improve\n",
      "6680/6680 [==============================] - 3s - loss: 0.0051 - acc: 0.9987 - val_loss: 1.2241 - val_acc: 0.8527\n",
      "Epoch 31/40\n",
      "6640/6680 [============================>.] - ETA: 0s - loss: 0.0055 - acc: 0.9986Epoch 00030: val_loss did not improve\n",
      "6680/6680 [==============================] - 3s - loss: 0.0055 - acc: 0.9987 - val_loss: 1.3147 - val_acc: 0.8539\n",
      "Epoch 32/40\n",
      "6600/6680 [============================>.] - ETA: 0s - loss: 0.0046 - acc: 0.9989Epoch 00031: val_loss did not improve\n",
      "6680/6680 [==============================] - 3s - loss: 0.0050 - acc: 0.9988 - val_loss: 1.3021 - val_acc: 0.8551\n",
      "Epoch 33/40\n",
      "6600/6680 [============================>.] - ETA: 0s - loss: 0.0057 - acc: 0.9988Epoch 00032: val_loss did not improve\n"
     ]
    },
    {
     "name": "stdout",
     "output_type": "stream",
     "text": [
      "6680/6680 [==============================] - 3s - loss: 0.0057 - acc: 0.9988 - val_loss: 1.3016 - val_acc: 0.8563\n",
      "Epoch 34/40\n",
      "6640/6680 [============================>.] - ETA: 0s - loss: 0.0046 - acc: 0.9989Epoch 00033: val_loss did not improve\n",
      "6680/6680 [==============================] - 3s - loss: 0.0046 - acc: 0.9990 - val_loss: 1.2513 - val_acc: 0.8587\n",
      "Epoch 35/40\n",
      "6660/6680 [============================>.] - ETA: 0s - loss: 0.0041 - acc: 0.9986Epoch 00034: val_loss did not improve\n",
      "6680/6680 [==============================] - 3s - loss: 0.0041 - acc: 0.9987 - val_loss: 1.3282 - val_acc: 0.8503\n",
      "Epoch 36/40\n",
      "6560/6680 [============================>.] - ETA: 0s - loss: 0.0044 - acc: 0.9989Epoch 00035: val_loss did not improve\n",
      "6680/6680 [==============================] - 3s - loss: 0.0054 - acc: 0.9988 - val_loss: 1.3056 - val_acc: 0.8515\n",
      "Epoch 37/40\n",
      "6620/6680 [============================>.] - ETA: 0s - loss: 0.0064 - acc: 0.9985Epoch 00036: val_loss did not improve\n",
      "6680/6680 [==============================] - 3s - loss: 0.0063 - acc: 0.9985 - val_loss: 1.3250 - val_acc: 0.8539\n",
      "Epoch 38/40\n",
      "6640/6680 [============================>.] - ETA: 0s - loss: 0.0049 - acc: 0.9986Epoch 00037: val_loss did not improve\n",
      "6680/6680 [==============================] - 3s - loss: 0.0049 - acc: 0.9987 - val_loss: 1.3053 - val_acc: 0.8563\n",
      "Epoch 39/40\n",
      "6640/6680 [============================>.] - ETA: 0s - loss: 0.0047 - acc: 0.9989Epoch 00038: val_loss did not improve\n",
      "6680/6680 [==============================] - 3s - loss: 0.0047 - acc: 0.9990 - val_loss: 1.3146 - val_acc: 0.8551\n",
      "Epoch 40/40\n",
      "6620/6680 [============================>.] - ETA: 0s - loss: 0.0056 - acc: 0.9989Epoch 00039: val_loss did not improve\n",
      "6680/6680 [==============================] - 3s - loss: 0.0056 - acc: 0.9990 - val_loss: 1.3466 - val_acc: 0.8563\n"
     ]
    },
    {
     "data": {
      "text/plain": [
       "<keras.callbacks.History at 0x126509450>"
      ]
     },
     "execution_count": 49,
     "metadata": {},
     "output_type": "execute_result"
    }
   ],
   "source": [
    "### TODO: Train the model.\n",
    "checkpointer = ModelCheckpoint(filepath='saved_models/weights.best.InceptionV3.hdf5', \n",
    "                               verbose=1, save_best_only=True)\n",
    "\n",
    "InceptionV3_model.fit(train_InceptionV3, train_targets, \n",
    "          validation_data=(valid_InceptionV3, valid_targets),\n",
    "          epochs=40, batch_size=20, callbacks=[checkpointer], verbose=1)"
   ]
  },
  {
   "cell_type": "markdown",
   "metadata": {},
   "source": [
    "### (IMPLEMENTATION) Load the Model with the Best Validation Loss"
   ]
  },
  {
   "cell_type": "code",
   "execution_count": 42,
   "metadata": {
    "collapsed": true
   },
   "outputs": [],
   "source": [
    "### TODO: Load the model weights with the best validation loss.\n",
    "VGG19_model.load_weights('saved_models/weights.best.VGG19.hdf5')"
   ]
  },
  {
   "cell_type": "code",
   "execution_count": 50,
   "metadata": {
    "collapsed": true
   },
   "outputs": [],
   "source": [
    "### TODO: Load the model weights with the best validation loss.\n",
    "InceptionV3_model.load_weights('saved_models/weights.best.InceptionV3.hdf5')"
   ]
  },
  {
   "cell_type": "markdown",
   "metadata": {},
   "source": [
    "### (IMPLEMENTATION) Test the Model\n",
    "\n",
    "Try out your model on the test dataset of dog images. Ensure that your test accuracy is greater than 60%."
   ]
  },
  {
   "cell_type": "code",
   "execution_count": 43,
   "metadata": {},
   "outputs": [
    {
     "name": "stdout",
     "output_type": "stream",
     "text": [
      "Test accuracy: 59.0000%\n"
     ]
    }
   ],
   "source": [
    "### TODO: Calculate classification accuracy on the test dataset.\n",
    "# get index of predicted dog breed for each image in test set\n",
    "VGG19_predictions = [np.argmax(VGG19_model.predict(np.expand_dims(feature, axis=0))) for feature in test_VGG19]\n",
    "\n",
    "# report test accuracy\n",
    "test_accuracy = 100*np.sum(np.array(VGG19_predictions)==np.argmax(test_targets, axis=1))/len(VGG19_predictions)\n",
    "print('Test accuracy: %.4f%%' % test_accuracy)"
   ]
  },
  {
   "cell_type": "code",
   "execution_count": 51,
   "metadata": {},
   "outputs": [
    {
     "name": "stdout",
     "output_type": "stream",
     "text": [
      "Test accuracy: 81.0000%\n"
     ]
    }
   ],
   "source": [
    "### TODO: Calculate classification accuracy on the test dataset.\n",
    "# get index of predicted dog breed for each image in test set\n",
    "InceptionV3_predictions = [np.argmax(InceptionV3_model.predict(np.expand_dims(feature, axis=0))) for feature in test_InceptionV3]\n",
    "\n",
    "# report test accuracy\n",
    "test_accuracy = 100*np.sum(np.array(InceptionV3_predictions)==np.argmax(test_targets, axis=1))/len(InceptionV3_predictions)\n",
    "print('Test accuracy: %.4f%%' % test_accuracy)"
   ]
  },
  {
   "cell_type": "markdown",
   "metadata": {},
   "source": [
    "### (IMPLEMENTATION) Predict Dog Breed with the Model\n",
    "\n",
    "Write a function that takes an image path as input and returns the dog breed (`Affenpinscher`, `Afghan_hound`, etc) that is predicted by your model.  \n",
    "\n",
    "Similar to the analogous function in Step 5, your function should have three steps:\n",
    "1. Extract the bottleneck features corresponding to the chosen CNN model.\n",
    "2. Supply the bottleneck features as input to the model to return the predicted vector.  Note that the argmax of this prediction vector gives the index of the predicted dog breed.\n",
    "3. Use the `dog_names` array defined in Step 0 of this notebook to return the corresponding breed.\n",
    "\n",
    "The functions to extract the bottleneck features can be found in `extract_bottleneck_features.py`, and they have been imported in an earlier code cell.  To obtain the bottleneck features corresponding to your chosen CNN architecture, you need to use the function\n",
    "\n",
    "    extract_{network}\n",
    "    \n",
    "where `{network}`, in the above filename, should be one of `VGG19`, `Resnet50`, `InceptionV3`, or `Xception`."
   ]
  },
  {
   "cell_type": "code",
   "execution_count": 44,
   "metadata": {
    "collapsed": true
   },
   "outputs": [],
   "source": [
    "### TODO: Write a function that takes a path to an image as input\n",
    "### and returns the dog breed that is predicted by the model.\n",
    "def VGG19_predict_breed(img_path):\n",
    "    # extract bottleneck features\n",
    "    bottleneck_feature = extract_VGG19(path_to_tensor(img_path))\n",
    "    # obtain predicted vector\n",
    "    predicted_vector = VGG19_model.predict(bottleneck_feature)\n",
    "    # return dog breed that is predicted by the model\n",
    "    return dog_names[np.argmax(predicted_vector)]"
   ]
  },
  {
   "cell_type": "code",
   "execution_count": 52,
   "metadata": {
    "collapsed": true
   },
   "outputs": [],
   "source": [
    "### TODO: Write a function that takes a path to an image as input\n",
    "### and returns the dog breed that is predicted by the model.\n",
    "def InceptionV3_predict_breed(img_path):\n",
    "    # extract bottleneck features\n",
    "    bottleneck_feature = extract_InceptionV3(path_to_tensor(img_path))\n",
    "    # obtain predicted vector\n",
    "    predicted_vector = InceptionV3_model.predict(bottleneck_feature)\n",
    "    # return dog breed that is predicted by the model\n",
    "    return dog_names[np.argmax(predicted_vector)]"
   ]
  },
  {
   "cell_type": "markdown",
   "metadata": {},
   "source": [
    "---\n",
    "<a id='step6'></a>\n",
    "## Step 6: Write your Algorithm\n",
    "\n",
    "Write an algorithm that accepts a file path to an image and first determines whether the image contains a human, dog, or neither.  Then,\n",
    "- if a __dog__ is detected in the image, return the predicted breed.\n",
    "- if a __human__ is detected in the image, return the resembling dog breed.\n",
    "- if __neither__ is detected in the image, provide output that indicates an error.\n",
    "\n",
    "You are welcome to write your own functions for detecting humans and dogs in images, but feel free to use the `face_detector` and `dog_detector` functions developed above.  You are __required__ to use your CNN from Step 5 to predict dog breed.  \n",
    "\n",
    "Some sample output for our algorithm is provided below, but feel free to design your own user experience!\n",
    "\n",
    "![Sample Human Output](images/sample_human_output.png)\n",
    "\n",
    "\n",
    "### (IMPLEMENTATION) Write your Algorithm"
   ]
  },
  {
   "cell_type": "code",
   "execution_count": 64,
   "metadata": {},
   "outputs": [],
   "source": [
    "### TODO: Write your algorithm.\n",
    "### Feel free to use as many code cells as needed.\n",
    "def predict_dog_breed(image_path):\n",
    "    output_string = ''\n",
    "    if face_detector(image_path):\n",
    "        output_string = 'You resemble {} the most.'\n",
    "    elif dog_detector(image_path):\n",
    "        output_string = 'You must be {}.'\n",
    "    else:\n",
    "        return \"Hmmm, I see neither human face nor dog.\"\n",
    "    dog_breed = InceptionV3_predict_breed(image_path)\n",
    "    return output_string.format(dog_breed)"
   ]
  },
  {
   "cell_type": "markdown",
   "metadata": {},
   "source": [
    "---\n",
    "<a id='step7'></a>\n",
    "## Step 7: Test Your Algorithm\n",
    "\n",
    "In this section, you will take your new algorithm for a spin!  What kind of dog does the algorithm think that __you__ look like?  If you have a dog, does it predict your dog's breed accurately?  If you have a cat, does it mistakenly think that your cat is a dog?\n",
    "\n",
    "### (IMPLEMENTATION) Test Your Algorithm on Sample Images!\n",
    "\n",
    "Test your algorithm at least six images on your computer.  Feel free to use any images you like.  Use at least two human and two dog images.  \n",
    "\n",
    "__Question 6:__ Is the output better than you expected :) ?  Or worse :( ?  Provide at least three possible points of improvement for your algorithm.\n",
    "\n",
    "__Answer:__ "
   ]
  },
  {
   "cell_type": "code",
   "execution_count": 57,
   "metadata": {},
   "outputs": [],
   "source": [
    "## TODO: Execute your algorithm from Step 6 on\n",
    "## at least 6 images on your computer.\n",
    "## Feel free to use as many code cells as needed."
   ]
  },
  {
   "cell_type": "markdown",
   "metadata": {},
   "source": [
    "<h2>Rafael Nadal</h2>\n",
    "<img src=\"test_images/RafaelNadal.jpg\" alt=\"Rafael Nadal\" style=\"width: 400px;\"/>"
   ]
  },
  {
   "cell_type": "code",
   "execution_count": 60,
   "metadata": {},
   "outputs": [
    {
     "name": "stdout",
     "output_type": "stream",
     "text": [
      "You resemble Icelandic_sheepdog the most.\n"
     ]
    }
   ],
   "source": [
    "print predict_dog_breed(\"test_images/RafaelNadal.jpg\")"
   ]
  },
  {
   "cell_type": "markdown",
   "metadata": {},
   "source": [
    "<h2>Icelandic Sheepdog</h2>\n",
    "<img src=\"test_images/Icelandic_Sheepdog.jpg\" alt=\"Icelandic_Sheepdog\" style=\"width: 200px;\"/>"
   ]
  },
  {
   "cell_type": "code",
   "execution_count": 63,
   "metadata": {},
   "outputs": [
    {
     "name": "stdout",
     "output_type": "stream",
     "text": [
      "You must be Icelandic_sheepdog.\n"
     ]
    }
   ],
   "source": [
    "print predict_dog_breed(\"test_images/Icelandic_Sheepdog.jpg\")"
   ]
  },
  {
   "cell_type": "markdown",
   "metadata": {},
   "source": [
    "<h2>Bruno Mars</h2>\n",
    "<img src=\"test_images/BrunoMars.jpg\" alt=\"Bruno Mars\" style=\"width: 200px;\"/>"
   ]
  },
  {
   "cell_type": "code",
   "execution_count": 65,
   "metadata": {},
   "outputs": [
    {
     "name": "stdout",
     "output_type": "stream",
     "text": [
      "You resemble Chinese_crested the most.\n"
     ]
    }
   ],
   "source": [
    "print predict_dog_breed(\"test_images/BrunoMars.jpg\")"
   ]
  },
  {
   "cell_type": "markdown",
   "metadata": {},
   "source": [
    "<h2>Chinese Crested</h2>\n",
    "<img src=\"test_images/Chinese_crested.jpg\" alt=\"Chinese_crested\" style=\"width: 200px;\"/>"
   ]
  },
  {
   "cell_type": "code",
   "execution_count": 66,
   "metadata": {},
   "outputs": [
    {
     "name": "stdout",
     "output_type": "stream",
     "text": [
      "You must be Poodle.\n"
     ]
    }
   ],
   "source": [
    "print predict_dog_breed(\"test_images/Chinese_crested.jpg\")"
   ]
  },
  {
   "cell_type": "markdown",
   "metadata": {},
   "source": [
    "<h2>Cat</h2>\n",
    "<img src=\"test_images/cat.jpg\" alt=\"Cat\" style=\"width: 200px;\"/>"
   ]
  },
  {
   "cell_type": "code",
   "execution_count": 67,
   "metadata": {},
   "outputs": [
    {
     "name": "stdout",
     "output_type": "stream",
     "text": [
      "Hmmm, I see neither human face nor dog.\n"
     ]
    }
   ],
   "source": [
    "print predict_dog_breed(\"test_images/cat.jpg\")"
   ]
  },
  {
   "cell_type": "markdown",
   "metadata": {},
   "source": [
    "<h2>Wolf</h2>\n",
    "<img src=\"test_images/wolf.jpg\" alt=\"wolf\" style=\"width: 200px;\"/>"
   ]
  },
  {
   "cell_type": "code",
   "execution_count": 69,
   "metadata": {},
   "outputs": [
    {
     "name": "stdout",
     "output_type": "stream",
     "text": [
      "Hmmm, I see neither human face nor dog.\n"
     ]
    }
   ],
   "source": [
    "print predict_dog_breed(\"test_images/wolf.jpg\")"
   ]
  },
  {
   "cell_type": "markdown",
   "metadata": {},
   "source": [
    "<h2>Another Wolf</h2>\n",
    "<img src=\"test_images/another_wolf.jpg\" alt=\"wolf\" style=\"width: 300px;\"/>"
   ]
  },
  {
   "cell_type": "code",
   "execution_count": 70,
   "metadata": {},
   "outputs": [
    {
     "name": "stdout",
     "output_type": "stream",
     "text": [
      "Hmmm, I see neither human face nor dog.\n"
     ]
    }
   ],
   "source": [
    "print predict_dog_breed(\"test_images/another_wolf.jpg\")"
   ]
  },
  {
   "cell_type": "markdown",
   "metadata": {},
   "source": [
    "# Comments \n",
    "* Some aspects of the output fall short of expectation, while some are better than expected.\n",
    "    * The fact that Chinse Crested is misclassifed as Poodle was not expected. These two breeds seem to be quite different.\n",
    "    * The fact that wolves do not get misclassified as dogs exceeds my expectation, but of course, this is due to the robustness of ResNet50, which has nothing to do with me.\n",
    "* Some areas of improvement include:\n",
    "    * Construct an even better model for classifying dog breeds, possibly by using Xception as base model, tuning the hyperparameters, adding layers and etc.\n",
    "    * When human is detected and a dog breed is suggested, automatically show an image of the corresponding dog.\n",
    "    * Maybe predict mutt dog breeds, when the highest two probabilities of predicted dog breeds are close."
   ]
  }
 ],
 "metadata": {
  "anaconda-cloud": {},
  "kernelspec": {
   "display_name": "udacity_env",
   "language": "python",
   "name": "udacity_env"
  },
  "language_info": {
   "codemirror_mode": {
    "name": "ipython",
    "version": 2
   },
   "file_extension": ".py",
   "mimetype": "text/x-python",
   "name": "python",
   "nbconvert_exporter": "python",
   "pygments_lexer": "ipython2",
   "version": "2.7.13"
  },
  "notify_time": "5"
 },
 "nbformat": 4,
 "nbformat_minor": 1
}
